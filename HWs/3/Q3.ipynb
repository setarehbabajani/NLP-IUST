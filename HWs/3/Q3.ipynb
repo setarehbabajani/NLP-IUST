{
  "nbformat": 4,
  "nbformat_minor": 0,
  "metadata": {
    "colab": {
      "provenance": []
    },
    "kernelspec": {
      "name": "python3",
      "display_name": "Python 3"
    },
    "language_info": {
      "name": "python"
    }
  },
  "cells": [
    {
      "cell_type": "markdown",
      "source": [
        "# Q3"
      ],
      "metadata": {
        "id": "NgQDc4v3TfsF"
      }
    },
    {
      "cell_type": "markdown",
      "source": [
        "*   We will develop a NER system specific to the category of names of the top 1000 movie titles from IMDB.\n",
        "\n",
        "*   We will evaluate the system on a collection of text likely to contain instances of these named entities."
      ],
      "metadata": {
        "id": "r3BJFGcYT-LV"
      }
    },
    {
      "cell_type": "code",
      "source": [
        "import nltk\n",
        "nltk.download('punkt')"
      ],
      "metadata": {
        "id": "GnwTjXyH5Xls",
        "colab": {
          "base_uri": "https://localhost:8080/"
        },
        "outputId": "f281a685-8588-468c-fa79-5d2c2c3c84c5"
      },
      "execution_count": 1,
      "outputs": [
        {
          "output_type": "stream",
          "name": "stderr",
          "text": [
            "[nltk_data] Downloading package punkt to /root/nltk_data...\n",
            "[nltk_data]   Unzipping tokenizers/punkt.zip.\n"
          ]
        },
        {
          "output_type": "execute_result",
          "data": {
            "text/plain": [
              "True"
            ]
          },
          "metadata": {},
          "execution_count": 1
        }
      ]
    },
    {
      "cell_type": "code",
      "source": [
        "import re\n",
        "import csv\n",
        "import math\n",
        "import nltk\n",
        "nltk.download('brown')\n",
        "nltk.download('movie_reviews')\n",
        "from nltk.corpus import brown, movie_reviews\n",
        "from nltk.tokenize import word_tokenize"
      ],
      "metadata": {
        "id": "o3DlFdNPT95l",
        "colab": {
          "base_uri": "https://localhost:8080/"
        },
        "outputId": "a6687708-1a16-4d35-e2d3-3fb5a867a6b9"
      },
      "execution_count": 2,
      "outputs": [
        {
          "output_type": "stream",
          "name": "stderr",
          "text": [
            "[nltk_data] Downloading package brown to /root/nltk_data...\n",
            "[nltk_data]   Unzipping corpora/brown.zip.\n",
            "[nltk_data] Downloading package movie_reviews to /root/nltk_data...\n",
            "[nltk_data]   Unzipping corpora/movie_reviews.zip.\n"
          ]
        }
      ]
    },
    {
      "cell_type": "code",
      "source": [
        "def get_top_1000_list():\n",
        "    \"\"\"\n",
        "    Function to extract movie titles from a IMDB-top-1000.csv file.\n",
        "\n",
        "    Returns:\n",
        "        list: A list of unique titles of the top 1000 movies\n",
        "    \"\"\"\n",
        "    file_path = 'data/IMDB-top-1000.csv'\n",
        "    collected_titles = []\n",
        "\n",
        "    with open(file_path, newline='', encoding='utf-8') as csvfile:\n",
        "        reader = csv.DictReader(csvfile)  # Creating a CSV DictReader object\n",
        "        for row in reader:\n",
        "            title = row['movie name\\r\\n'].strip()  # Extracting the movie title and stripping any extra whitespace\n",
        "            collected_titles.append(title)\n",
        "    return collected_titles"
      ],
      "metadata": {
        "id": "5hHLacEwzP3q"
      },
      "execution_count": 9,
      "outputs": []
    },
    {
      "cell_type": "code",
      "source": [
        "def label_BIO(_tokens, _NE):\n",
        "    \"\"\"\n",
        "    Generates BIO (Beginning, Inside, Outside) tags for movie titles in the given tokens.\n",
        "\n",
        "    Args:\n",
        "        _tokens (list): List of tokens representing words in a sentence.\n",
        "        _NE (list): List of named entities, where each entity is represented as a list of tokens.\n",
        "\n",
        "    Returns:\n",
        "        list: List of tuples containing tokens and their corresponding BIO tags.\n",
        "\n",
        "    Comments:\n",
        "        - This function searches for movie titles in the tokens and labels them using BIO notation.\n",
        "        - A movie title is considered to be a named entity, where the first word is labeled as 'B-MOV'\n",
        "          (Beginning of a movie title) and subsequent words are labeled as 'I-MOV' (Inside a movie title).\n",
        "        - Non-movie title tokens are labeled as 'O' (Outside any named entity).\n",
        "        - The function iterates through each token in the tokens list, searching for matches in the named entity list.\n",
        "          If a match is found, the corresponding tokens are labeled accordingly in the BIO format.\n",
        "        - It returns a list of tuples, each containing a token and its corresponding BIO tag.\n",
        "    \"\"\"\n",
        "    BIO_for_samples = []\n",
        "    for token in _tokens:\n",
        "        tag = 'O'\n",
        "        for ne in _NE:\n",
        "            if token in ne:\n",
        "                start_index = ne.index(token)\n",
        "                if start_index == 0:\n",
        "                    tag = 'B-MOV'\n",
        "                else:\n",
        "                    tag = 'I-MOV'\n",
        "                break\n",
        "        BIO_for_samples.append((token, tag))\n",
        "\n",
        "\n",
        "    return BIO_for_samples"
      ],
      "metadata": {
        "id": "Mem-wyqU1z0f"
      },
      "execution_count": 11,
      "outputs": []
    },
    {
      "cell_type": "code",
      "source": [
        "# Don't change this cell\n",
        "def print_BIO_res(_BIO):\n",
        "    for i in range(len(_BIO)):\n",
        "        if _BIO[i][1] == 'B-MOV':\n",
        "            for j in range(i - 7, i + 7):\n",
        "                if _BIO[j][1] == 'O':\n",
        "                    print(_BIO[j][0], end=\" \")\n",
        "                else:\n",
        "                    print(_BIO[j], end=\" \")\n",
        "            print(\"\")"
      ],
      "metadata": {
        "id": "1UA4HbNA5Fj6"
      },
      "execution_count": 12,
      "outputs": []
    },
    {
      "cell_type": "code",
      "source": [
        "# Don't change this cell\n",
        "def get_data_from_file(_fn):\n",
        "    with open(_fn, 'r') as file:\n",
        "        data = file.read().replace('\\n', ' ')\n",
        "    return data"
      ],
      "metadata": {
        "id": "vrQqvG947sb4"
      },
      "execution_count": 13,
      "outputs": []
    },
    {
      "cell_type": "code",
      "source": [
        "titles_top_1000 = get_top_1000_list()\n",
        "\n",
        "# get text data from a text file\n",
        "data = get_data_from_file(\"data/article-about-a-genre.txt\")\n",
        "# tokenize text data\n",
        "tokens = word_tokenize(data)\n",
        "# tag with BIO using the IMDB top 1000 movie title list\n",
        "BIO = label_BIO(tokens, titles_top_1000)\n",
        "\n",
        "print_BIO_res(BIO)"
      ],
      "metadata": {
        "id": "CdzyVGJ25IBc",
        "colab": {
          "base_uri": "https://localhost:8080/"
        },
        "outputId": "9139c6e8-6877-4b24-8e93-4a6bc6421963"
      },
      "execution_count": 14,
      "outputs": [
        {
          "output_type": "stream",
          "name": "stdout",
          "text": [
            "('Ten', 'I-MOV') ('Rings', 'I-MOV') ('is', 'I-MOV') shaping ('up', 'I-MOV') ('to', 'I-MOV') overtake ('Black', 'B-MOV') Widow ('as', 'I-MOV') ('the', 'I-MOV') biggest film ('of', 'I-MOV') \n",
            "genre ('has', 'I-MOV') ('to', 'I-MOV') offer ('.', 'I-MOV') Tracing through ('China', 'B-MOV') (',', 'I-MOV') Hong ('Kong', 'I-MOV') ('and', 'I-MOV') ('Hollywood', 'I-MOV') (',', 'I-MOV') \n",
            "history almost ('as', 'I-MOV') long cinema itself ('.', 'I-MOV') ('This', 'B-MOV') history ('is', 'I-MOV') ('on', 'I-MOV') exciting display ('in', 'I-MOV') \n",
            "wuxia novels (':', 'I-MOV') narratives ('set', 'I-MOV') ('in', 'I-MOV') Ancient ('China', 'B-MOV') focusing ('on', 'I-MOV') heroes ('with', 'I-MOV') supernatural martial \n",
            "heroes ('with', 'I-MOV') supernatural martial ('arts', 'I-MOV') abilities ('.', 'I-MOV') ('Fight', 'B-MOV') scenes ('in', 'I-MOV') these early films emphasised \n",
            "rarely showcased actual martial ('arts', 'I-MOV') skills ('.', 'I-MOV') ('This', 'B-MOV') changed ('with', 'I-MOV') ('the', 'I-MOV') transformation ('of', 'I-MOV') Hong \n",
            "Five Deadly Venoms ('(', 'I-MOV') 1978 (')', 'I-MOV') ('and', 'I-MOV') ('The', 'B-MOV') 36th Chamber ('of', 'I-MOV') Shaolin ('(', 'I-MOV') 1978 \n",
            "style (',', 'I-MOV') ('as', 'I-MOV') shown ('in', 'I-MOV') films like ('The', 'B-MOV') ('Big', 'I-MOV') Boss ('(', 'I-MOV') 1971 (')', 'I-MOV') ('and', 'I-MOV') \n",
            "('The', 'B-MOV') ('Big', 'I-MOV') Boss ('(', 'I-MOV') 1971 (')', 'I-MOV') ('and', 'I-MOV') ('Enter', 'B-MOV') ('the', 'I-MOV') ('Dragon', 'I-MOV') ('(', 'I-MOV') 1973 (')', 'I-MOV') (',', 'I-MOV') \n",
            "('in', 'I-MOV') Drunken Master ('(', 'I-MOV') 1978 (')', 'I-MOV') ('and', 'I-MOV') ('The', 'B-MOV') ('Magnificent', 'I-MOV') Butcher ('(', 'I-MOV') 1979 (')', 'I-MOV') starring \n",
            "1979 (')', 'I-MOV') starring (',', 'I-MOV') respectively (',', 'I-MOV') Jackie ('Chan', 'B-MOV') ('and', 'I-MOV') ('his', 'I-MOV') ('China', 'B-MOV') Drama Academy “ \n",
            "(',', 'I-MOV') respectively (',', 'I-MOV') Jackie ('Chan', 'B-MOV') ('and', 'I-MOV') ('his', 'I-MOV') ('China', 'B-MOV') Drama Academy “ brother ” (',', 'I-MOV') \n",
            "('in', 'I-MOV') ('the', 'I-MOV') 1980 ('and', 'I-MOV') ‘ 90s ('.', 'I-MOV') ('At', 'B-MOV') this time (',', 'I-MOV') contemporary kung ('fu', 'I-MOV') \n",
            "time (',', 'I-MOV') contemporary kung ('fu', 'I-MOV') classics like ('Chan', 'B-MOV') ’ ('s', 'I-MOV') ('Police', 'I-MOV') ('Story', 'I-MOV') ('(', 'I-MOV') 1985 \n",
            "such ('as', 'I-MOV') Jet ('Li', 'I-MOV') ’ ('s', 'I-MOV') Tai ('Chi', 'B-MOV') Master ('(', 'I-MOV') 1993 (')', 'I-MOV') ('and', 'I-MOV') ('Donnie', 'B-MOV') \n",
            "Tai ('Chi', 'B-MOV') Master ('(', 'I-MOV') 1993 (')', 'I-MOV') ('and', 'I-MOV') ('Donnie', 'B-MOV') Yen ’ ('s', 'I-MOV') ('Iron', 'I-MOV') ('Monkey', 'I-MOV') ('(', 'I-MOV') \n",
            "('s', 'I-MOV') ('Iron', 'I-MOV') ('Monkey', 'I-MOV') ('(', 'I-MOV') 1993 (')', 'I-MOV') ('.', 'I-MOV') ('The', 'B-MOV') second boom ('In', 'B-MOV') ('the', 'I-MOV') ('late', 'I-MOV') 1990s \n",
            "('(', 'I-MOV') 1993 (')', 'I-MOV') ('.', 'I-MOV') ('The', 'B-MOV') second boom ('In', 'B-MOV') ('the', 'I-MOV') ('late', 'I-MOV') 1990s (',', 'I-MOV') around ('the', 'I-MOV') \n",
            "('of', 'I-MOV') Hong ('Kong', 'I-MOV') ’ ('s', 'I-MOV') handover ('to', 'I-MOV') ('China', 'B-MOV') (',', 'I-MOV') many ('of', 'I-MOV') ('the', 'I-MOV') industry ’ \n",
            "move ('to', 'I-MOV') ('Hollywood', 'I-MOV') ('.', 'I-MOV') ('With', 'I-MOV') films like ('Chan', 'B-MOV') ’ ('s', 'I-MOV') ('Rush', 'I-MOV') ('Hour', 'I-MOV') ('(', 'I-MOV') 1998 \n",
            "(',', 'I-MOV') ('and', 'I-MOV') ('Li', 'I-MOV') ’ ('s', 'I-MOV') Romeo Must ('Die', 'B-MOV') ('(', 'I-MOV') 2000 (')', 'I-MOV') ('and', 'I-MOV') ('The', 'B-MOV') ('One', 'B-MOV') \n",
            "Romeo Must ('Die', 'B-MOV') ('(', 'I-MOV') 2000 (')', 'I-MOV') ('and', 'I-MOV') ('The', 'B-MOV') ('One', 'B-MOV') ('(', 'I-MOV') ('2001', 'B-MOV') (')', 'I-MOV') (',', 'I-MOV') English-speaking \n",
            "Must ('Die', 'B-MOV') ('(', 'I-MOV') 2000 (')', 'I-MOV') ('and', 'I-MOV') ('The', 'B-MOV') ('One', 'B-MOV') ('(', 'I-MOV') ('2001', 'B-MOV') (')', 'I-MOV') (',', 'I-MOV') English-speaking fans \n",
            "('(', 'I-MOV') 2000 (')', 'I-MOV') ('and', 'I-MOV') ('The', 'B-MOV') ('One', 'B-MOV') ('(', 'I-MOV') ('2001', 'B-MOV') (')', 'I-MOV') (',', 'I-MOV') English-speaking fans could finally \n",
            "('to', 'I-MOV') find its ('way', 'I-MOV') into hits like ('The', 'B-MOV') ('Matrix', 'I-MOV') ('(', 'I-MOV') 1999 (')', 'I-MOV') ('and', 'I-MOV') ('Kill', 'I-MOV') \n",
            "('and', 'I-MOV') ('Kill', 'I-MOV') ('Bill', 'I-MOV') ('(', 'I-MOV') 2003 (')', 'I-MOV') ('.', 'I-MOV') ('In', 'B-MOV') 2000 (',', 'I-MOV') ('the', 'I-MOV') Chinese blockbuster ('Crouching', 'B-MOV') \n",
            "('.', 'I-MOV') ('In', 'B-MOV') 2000 (',', 'I-MOV') ('the', 'I-MOV') Chinese blockbuster ('Crouching', 'B-MOV') ('Tiger', 'I-MOV') (',', 'I-MOV') ('Hidden', 'I-MOV') ('Dragon', 'I-MOV') showed modern \n",
            "films (',', 'I-MOV') ('and', 'I-MOV') many stars returned ('to', 'I-MOV') ('China', 'B-MOV') ('to', 'I-MOV') capitalised ('on', 'I-MOV') ('the', 'I-MOV') trend ('.', 'I-MOV') \n",
            "('the', 'I-MOV') trend ('.', 'I-MOV') Jet ('Li', 'I-MOV') ’ ('s', 'I-MOV') ('Hero', 'B-MOV') ('(', 'I-MOV') 2002 (')', 'I-MOV') ('and', 'I-MOV') Fearless ('(', 'I-MOV') \n",
            "('the', 'I-MOV') first film ('to', 'I-MOV') feature both Jackie ('Chan', 'B-MOV') ('and', 'I-MOV') Jet ('Li', 'I-MOV') (',', 'I-MOV') Forbidden ('Kingdom', 'I-MOV') \n",
            "('on', 'I-MOV') producing elegant wuxia action dramas ('.', 'I-MOV') ('In', 'B-MOV') Hong ('Kong', 'I-MOV') (',', 'I-MOV') kung ('fu', 'I-MOV') was \n",
            "('s', 'I-MOV') hugely popular comedies Shaolin Soccer ('(', 'I-MOV') ('2001', 'B-MOV') (')', 'I-MOV') ('and', 'I-MOV') ('Kung', 'B-MOV') ('Fu', 'I-MOV') ('Hustle', 'I-MOV') ('(', 'I-MOV') \n",
            "comedies Shaolin Soccer ('(', 'I-MOV') ('2001', 'B-MOV') (')', 'I-MOV') ('and', 'I-MOV') ('Kung', 'B-MOV') ('Fu', 'I-MOV') ('Hustle', 'I-MOV') ('(', 'I-MOV') 2004 (')', 'I-MOV') (',', 'I-MOV') \n",
            "('Fu', 'I-MOV') ('Hustle', 'I-MOV') ('(', 'I-MOV') 2004 (')', 'I-MOV') (',', 'I-MOV') ('and', 'I-MOV') ('Donnie', 'B-MOV') Yen ’ ('s', 'I-MOV') ('Ip', 'B-MOV') ('Man', 'I-MOV') ('(', 'I-MOV') \n",
            "(')', 'I-MOV') (',', 'I-MOV') ('and', 'I-MOV') ('Donnie', 'B-MOV') Yen ’ ('s', 'I-MOV') ('Ip', 'B-MOV') ('Man', 'I-MOV') ('(', 'I-MOV') 2008 (')', 'I-MOV') ('.', 'I-MOV') Shang-Chi \n",
            "('.', 'I-MOV') Shang-Chi (':', 'I-MOV') ('the', 'I-MOV') first Asian superhero ('In', 'B-MOV') many ways (',', 'I-MOV') ('the', 'I-MOV') character ('of', 'I-MOV') \n",
            "('the', 'I-MOV') same name (',', 'I-MOV') was controversial ('.', 'I-MOV') ('The', 'B-MOV') star (',', 'I-MOV') Finn ('Jones', 'I-MOV') (',', 'I-MOV') lacked \n",
            "its “ white saviour ” narrative ('.', 'I-MOV') ('In', 'B-MOV') ('light', 'I-MOV') ('of', 'I-MOV') this (',', 'I-MOV') ('the', 'I-MOV') producers \n",
            "('to', 'I-MOV') headline ('a', 'I-MOV') Marvel feature film ('.', 'I-MOV') ('This', 'B-MOV') ('has', 'I-MOV') paid off (':', 'I-MOV') Shang-Chi ('is', 'I-MOV') \n",
            "('fu', 'I-MOV') film ('in', 'I-MOV') its ('own', 'I-MOV') right ('.', 'I-MOV') ('Under', 'B-MOV') fight director Andy Cheng ('and', 'I-MOV') stunt \n",
            "('the', 'I-MOV') lead role ('in', 'I-MOV') ('the', 'I-MOV') original 1970s ('Kung', 'B-MOV') ('Fu', 'I-MOV') television series ('.', 'I-MOV') Shang-Chi ('is', 'I-MOV') \n"
          ]
        }
      ]
    },
    {
      "cell_type": "code",
      "source": [],
      "metadata": {
        "id": "ve7G5Me8juDI"
      },
      "execution_count": null,
      "outputs": []
    }
  ]
}