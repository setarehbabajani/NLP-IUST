{
  "nbformat": 4,
  "nbformat_minor": 0,
  "metadata": {
    "colab": {
      "provenance": []
    },
    "kernelspec": {
      "name": "python3",
      "display_name": "Python 3"
    },
    "language_info": {
      "name": "python"
    }
  },
  "cells": [
    {
      "cell_type": "markdown",
      "source": [
        "# Install Dependencies"
      ],
      "metadata": {
        "id": "0fe8eKZG2hTc"
      }
    },
    {
      "cell_type": "code",
      "execution_count": 9,
      "metadata": {
        "colab": {
          "base_uri": "https://localhost:8080/"
        },
        "id": "MqYonHY1hz-n",
        "outputId": "f9ee8b83-cff4-4a32-c20b-62705d46ec45"
      },
      "outputs": [
        {
          "output_type": "stream",
          "name": "stdout",
          "text": [
            "\u001b[2K     \u001b[90m━━━━━━━━━━━━━━━━━━━━━━━━━━━━━━━━━━━━━━━━\u001b[0m \u001b[32m15.4/15.4 MB\u001b[0m \u001b[31m52.3 MB/s\u001b[0m eta \u001b[36m0:00:00\u001b[0m\n",
            "\u001b[2K     \u001b[90m━━━━━━━━━━━━━━━━━━━━━━━━━━━━━━━━━━━━━━━━\u001b[0m \u001b[32m2.0/2.0 MB\u001b[0m \u001b[31m61.9 MB/s\u001b[0m eta \u001b[36m0:00:00\u001b[0m\n",
            "\u001b[2K     \u001b[90m━━━━━━━━━━━━━━━━━━━━━━━━━━━━━━━━━━━━━━━━\u001b[0m \u001b[32m75.6/75.6 kB\u001b[0m \u001b[31m8.6 MB/s\u001b[0m eta \u001b[36m0:00:00\u001b[0m\n",
            "\u001b[2K     \u001b[90m━━━━━━━━━━━━━━━━━━━━━━━━━━━━━━━━━━━━━━━━\u001b[0m \u001b[32m130.8/130.8 kB\u001b[0m \u001b[31m15.0 MB/s\u001b[0m eta \u001b[36m0:00:00\u001b[0m\n",
            "\u001b[2K     \u001b[90m━━━━━━━━━━━━━━━━━━━━━━━━━━━━━━━━━━━━━━━━\u001b[0m \u001b[32m328.3/328.3 kB\u001b[0m \u001b[31m27.5 MB/s\u001b[0m eta \u001b[36m0:00:00\u001b[0m\n",
            "\u001b[2K     \u001b[90m━━━━━━━━━━━━━━━━━━━━━━━━━━━━━━━━━━━━━━━━\u001b[0m \u001b[32m1.1/1.1 MB\u001b[0m \u001b[31m41.5 MB/s\u001b[0m eta \u001b[36m0:00:00\u001b[0m\n",
            "\u001b[2K     \u001b[90m━━━━━━━━━━━━━━━━━━━━━━━━━━━━━━━━━━━━━━━━\u001b[0m \u001b[32m227.1/227.1 kB\u001b[0m \u001b[31m22.7 MB/s\u001b[0m eta \u001b[36m0:00:00\u001b[0m\n",
            "\u001b[2K     \u001b[90m━━━━━━━━━━━━━━━━━━━━━━━━━━━━━━━━━━━━━━━━\u001b[0m \u001b[32m853.2/853.2 kB\u001b[0m \u001b[31m36.2 MB/s\u001b[0m eta \u001b[36m0:00:00\u001b[0m\n",
            "\u001b[2K     \u001b[90m━━━━━━━━━━━━━━━━━━━━━━━━━━━━━━━━━━━━━━━━\u001b[0m \u001b[32m290.4/290.4 kB\u001b[0m \u001b[31m22.6 MB/s\u001b[0m eta \u001b[36m0:00:00\u001b[0m\n",
            "\u001b[2K     \u001b[90m━━━━━━━━━━━━━━━━━━━━━━━━━━━━━━━━━━━━━━━━\u001b[0m \u001b[32m21.3/21.3 MB\u001b[0m \u001b[31m41.9 MB/s\u001b[0m eta \u001b[36m0:00:00\u001b[0m\n",
            "\u001b[2K     \u001b[90m━━━━━━━━━━━━━━━━━━━━━━━━━━━━━━━━━━━━━━━━\u001b[0m \u001b[32m314.1/314.1 kB\u001b[0m \u001b[31m30.4 MB/s\u001b[0m eta \u001b[36m0:00:00\u001b[0m\n",
            "\u001b[2K     \u001b[90m━━━━━━━━━━━━━━━━━━━━━━━━━━━━━━━━━━━━━━━━\u001b[0m \u001b[32m77.9/77.9 kB\u001b[0m \u001b[31m8.5 MB/s\u001b[0m eta \u001b[36m0:00:00\u001b[0m\n",
            "\u001b[2K     \u001b[90m━━━━━━━━━━━━━━━━━━━━━━━━━━━━━━━━━━━━━━━━\u001b[0m \u001b[32m58.3/58.3 kB\u001b[0m \u001b[31m6.2 MB/s\u001b[0m eta \u001b[36m0:00:00\u001b[0m\n",
            "\u001b[2K     \u001b[90m━━━━━━━━━━━━━━━━━━━━━━━━━━━━━━━━━━━━━━━━\u001b[0m \u001b[32m49.2/49.2 kB\u001b[0m \u001b[31m5.0 MB/s\u001b[0m eta \u001b[36m0:00:00\u001b[0m\n",
            "\u001b[2K     \u001b[90m━━━━━━━━━━━━━━━━━━━━━━━━━━━━━━━━━━━━━━━━\u001b[0m \u001b[32m84.1/84.1 kB\u001b[0m \u001b[31m1.1 MB/s\u001b[0m eta \u001b[36m0:00:00\u001b[0m\n",
            "\u001b[2K     \u001b[90m━━━━━━━━━━━━━━━━━━━━━━━━━━━━━━━━━━━━━━━━\u001b[0m \u001b[32m547.8/547.8 kB\u001b[0m \u001b[31m6.1 MB/s\u001b[0m eta \u001b[36m0:00:00\u001b[0m\n",
            "\u001b[2K     \u001b[90m━━━━━━━━━━━━━━━━━━━━━━━━━━━━━━━━━━━━━━━━\u001b[0m \u001b[32m116.3/116.3 kB\u001b[0m \u001b[31m12.5 MB/s\u001b[0m eta \u001b[36m0:00:00\u001b[0m\n",
            "\u001b[2K     \u001b[90m━━━━━━━━━━━━━━━━━━━━━━━━━━━━━━━━━━━━━━━━\u001b[0m \u001b[32m194.1/194.1 kB\u001b[0m \u001b[31m20.6 MB/s\u001b[0m eta \u001b[36m0:00:00\u001b[0m\n",
            "\u001b[2K     \u001b[90m━━━━━━━━━━━━━━━━━━━━━━━━━━━━━━━━━━━━━━━━\u001b[0m \u001b[32m134.8/134.8 kB\u001b[0m \u001b[31m15.9 MB/s\u001b[0m eta \u001b[36m0:00:00\u001b[0m\n",
            "\u001b[2K     \u001b[90m━━━━━━━━━━━━━━━━━━━━━━━━━━━━━━━━━━━━━━━━\u001b[0m \u001b[32m40.8/40.8 MB\u001b[0m \u001b[31m16.7 MB/s\u001b[0m eta \u001b[36m0:00:00\u001b[0m\n",
            "\u001b[2K     \u001b[90m━━━━━━━━━━━━━━━━━━━━━━━━━━━━━━━━━━━━━━━━\u001b[0m \u001b[32m64.9/64.9 kB\u001b[0m \u001b[31m6.7 MB/s\u001b[0m eta \u001b[36m0:00:00\u001b[0m\n",
            "\u001b[?25h\u001b[31mERROR: pip's dependency resolver does not currently take into account all the packages that are installed. This behaviour is the source of the following dependency conflicts.\n",
            "cudf-cu12 24.4.1 requires pyarrow<15.0.0a0,>=14.0.1, but you have pyarrow 16.1.0 which is incompatible.\n",
            "google-colab 1.0.0 requires requests==2.31.0, but you have requests 2.32.3 which is incompatible.\n",
            "ibis-framework 8.0.0 requires pyarrow<16,>=2, but you have pyarrow 16.1.0 which is incompatible.\u001b[0m\u001b[31m\n",
            "\u001b[2K     \u001b[90m━━━━━━━━━━━━━━━━━━━━━━━━━━━━━━━━━━━━━━━━\u001b[0m \u001b[32m119.8/119.8 MB\u001b[0m \u001b[31m9.1 MB/s\u001b[0m eta \u001b[36m0:00:00\u001b[0m\n",
            "\u001b[2K     \u001b[90m━━━━━━━━━━━━━━━━━━━━━━━━━━━━━━━━━━━━━━━━\u001b[0m \u001b[32m892.6/892.6 kB\u001b[0m \u001b[31m4.3 MB/s\u001b[0m eta \u001b[36m0:00:00\u001b[0m\n",
            "\u001b[2K     \u001b[90m━━━━━━━━━━━━━━━━━━━━━━━━━━━━━━━━━━━━━━━━\u001b[0m \u001b[32m4.4/4.4 MB\u001b[0m \u001b[31m36.4 MB/s\u001b[0m eta \u001b[36m0:00:00\u001b[0m\n",
            "\u001b[?25h  Preparing metadata (setup.py) ... \u001b[?25l\u001b[?25hdone\n",
            "\u001b[2K     \u001b[90m━━━━━━━━━━━━━━━━━━━━━━━━━━━━━━━━━━━━━━━━\u001b[0m \u001b[32m17.3/17.3 MB\u001b[0m \u001b[31m51.3 MB/s\u001b[0m eta \u001b[36m0:00:00\u001b[0m\n",
            "\u001b[2K     \u001b[90m━━━━━━━━━━━━━━━━━━━━━━━━━━━━━━━━━━━━━━━━\u001b[0m \u001b[32m1.1/1.1 MB\u001b[0m \u001b[31m58.2 MB/s\u001b[0m eta \u001b[36m0:00:00\u001b[0m\n",
            "\u001b[2K     \u001b[90m━━━━━━━━━━━━━━━━━━━━━━━━━━━━━━━━━━━━━━━━\u001b[0m \u001b[32m238.8/238.8 kB\u001b[0m \u001b[31m24.6 MB/s\u001b[0m eta \u001b[36m0:00:00\u001b[0m\n",
            "\u001b[?25h  Building wheel for flashtext (setup.py) ... \u001b[?25l\u001b[?25hdone\n",
            "\u001b[31mERROR: pip's dependency resolver does not currently take into account all the packages that are installed. This behaviour is the source of the following dependency conflicts.\n",
            "cudf-cu12 24.4.1 requires pyarrow<15.0.0a0,>=14.0.1, but you have pyarrow 16.1.0 which is incompatible.\n",
            "ibis-framework 8.0.0 requires pyarrow<16,>=2, but you have pyarrow 16.1.0 which is incompatible.\n",
            "pandas-stubs 2.0.3.230814 requires numpy>=1.25.0; python_version >= \"3.9\", but you have numpy 1.24.3 which is incompatible.\u001b[0m\u001b[31m\n",
            "\u001b[2K     \u001b[90m━━━━━━━━━━━━━━━━━━━━━━━━━━━━━━━━━━━━━━━━\u001b[0m \u001b[32m175.4/175.4 kB\u001b[0m \u001b[31m1.6 MB/s\u001b[0m eta \u001b[36m0:00:00\u001b[0m\n",
            "\u001b[?25h  Preparing metadata (setup.py) ... \u001b[?25l\u001b[?25hdone\n",
            "\u001b[2K     \u001b[90m━━━━━━━━━━━━━━━━━━━━━━━━━━━━━━━━━━━━━━━━\u001b[0m \u001b[32m54.4/54.4 kB\u001b[0m \u001b[31m6.0 MB/s\u001b[0m eta \u001b[36m0:00:00\u001b[0m\n",
            "\u001b[2K     \u001b[90m━━━━━━━━━━━━━━━━━━━━━━━━━━━━━━━━━━━━━━━━\u001b[0m \u001b[32m235.5/235.5 kB\u001b[0m \u001b[31m6.0 MB/s\u001b[0m eta \u001b[36m0:00:00\u001b[0m\n",
            "\u001b[?25h  Building wheel for emoji (setup.py) ... \u001b[?25l\u001b[?25hdone\n",
            "Collecting docx2txt\n",
            "  Downloading docx2txt-0.8.tar.gz (2.8 kB)\n",
            "  Preparing metadata (setup.py) ... \u001b[?25l\u001b[?25hdone\n",
            "Building wheels for collected packages: docx2txt\n",
            "  Building wheel for docx2txt (setup.py) ... \u001b[?25l\u001b[?25hdone\n",
            "  Created wheel for docx2txt: filename=docx2txt-0.8-py3-none-any.whl size=3960 sha256=1e9e9ca3679a81e11299e63fa917ff4afd60fe380d3e1707665178b58bb7182b\n",
            "  Stored in directory: /root/.cache/pip/wheels/22/58/cf/093d0a6c3ecfdfc5f6ddd5524043b88e59a9a199cb02352966\n",
            "Successfully built docx2txt\n",
            "Installing collected packages: docx2txt\n",
            "Successfully installed docx2txt-0.8\n"
          ]
        }
      ],
      "source": [
        "!pip install llama-index llama-index-llms-huggingface llama-index-embeddings-huggingface --quiet\n",
        "!pip install llama-index-llms-huggingface-api --quiet\n",
        "! pip install transformers  evaluate accelerate --quiet\n",
        "!pip install -U bitsandbytes --quiet\n",
        "!pip install -q hazm\n",
        "!pip install -q clean-text[gpl]\n",
        "!pip install docx2txt"
      ]
    },
    {
      "cell_type": "markdown",
      "source": [
        "# Load Documents"
      ],
      "metadata": {
        "id": "9Zk-R8rB2nuP"
      }
    },
    {
      "cell_type": "code",
      "source": [
        "from llama_index.core import VectorStoreIndex, SimpleDirectoryReader\n",
        "\n",
        "document_1 = SimpleDirectoryReader(input_files=[\"/content/input_1.docx\"]).load_data()\n",
        "document_2 = SimpleDirectoryReader(input_files=[\"/content/input_2.docx\"]).load_data()"
      ],
      "metadata": {
        "id": "IiCXtK9yjtOX"
      },
      "execution_count": 14,
      "outputs": []
    },
    {
      "cell_type": "code",
      "source": [
        "def extract_text(documents):\n",
        "    text = \"\"\n",
        "    for doc in documents:\n",
        "        text += doc.text + \" \"  # Assuming each document object has a 'text' attribute\n",
        "    return text.strip()\n",
        "\n",
        "def chunk_text(text, chunk_size=100):\n",
        "    words = text.split()\n",
        "    chunks = [' '.join(words[i:i + chunk_size]) for i in range(0, len(words), chunk_size)]\n",
        "    return chunks\n",
        "\n",
        "text_1 = extract_text(document_1)\n",
        "text_2 = extract_text(document_2)\n",
        "\n"
      ],
      "metadata": {
        "id": "-wtnzu1Lj8cZ"
      },
      "execution_count": 27,
      "outputs": []
    },
    {
      "cell_type": "markdown",
      "source": [
        "# Preprocess Texts"
      ],
      "metadata": {
        "id": "0H3yWvsj2r4r"
      }
    },
    {
      "cell_type": "code",
      "source": [
        "import hazm\n",
        "from cleantext import clean\n",
        "import re\n",
        "\n",
        "def cleanhtml(raw_html):\n",
        "    cleanr = re.compile('<.*?>')\n",
        "    cleantext = re.sub(cleanr, '', raw_html)\n",
        "    return cleantext\n",
        "\n",
        "\n",
        "def cleaning(text):\n",
        "    text = text.strip()\n",
        "\n",
        "    # regular cleaning\n",
        "    text = clean(text,\n",
        "        fix_unicode=True,\n",
        "        to_ascii=False,\n",
        "        lower=True,\n",
        "        no_line_breaks=True,\n",
        "        no_urls=True,\n",
        "        no_emails=True,\n",
        "        no_phone_numbers=True,\n",
        "        no_numbers=False,\n",
        "        no_digits=False,\n",
        "        no_currency_symbols=True,\n",
        "        no_punct=False,\n",
        "        replace_with_url=\"\",\n",
        "        replace_with_email=\"\",\n",
        "        replace_with_phone_number=\"\",\n",
        "        replace_with_number=\"\",\n",
        "        replace_with_digit=\"0\",\n",
        "        replace_with_currency_symbol=\"\",\n",
        "    )\n",
        "\n",
        "    # cleaning htmls\n",
        "    text = cleanhtml(text)\n",
        "\n",
        "    # normalizing\n",
        "    normalizer = hazm.Normalizer()\n",
        "    text = normalizer.normalize(text)\n",
        "\n",
        "    # removing wierd patterns\n",
        "    wierd_pattern = re.compile(\"[\"\n",
        "        u\"\\U0001F600-\\U0001F64F\"  # emoticons\n",
        "        u\"\\U0001F300-\\U0001F5FF\"  # symbols & pictographs\n",
        "        u\"\\U0001F680-\\U0001F6FF\"  # transport & map symbols\n",
        "        u\"\\U0001F1E0-\\U0001F1FF\"  # flags (iOS)\n",
        "        u\"\\U00002702-\\U000027B0\"\n",
        "        u\"\\U000024C2-\\U0001F251\"\n",
        "        u\"\\U0001f926-\\U0001f937\"\n",
        "        u'\\U00010000-\\U0010ffff'\n",
        "        u\"\\u200d\"\n",
        "        u\"\\u2640-\\u2642\"\n",
        "        u\"\\u2600-\\u2B55\"\n",
        "        u\"\\u23cf\"\n",
        "        u\"\\u23e9\"\n",
        "        u\"\\u231a\"\n",
        "        u\"\\u3030\"\n",
        "        u\"\\ufe0f\"\n",
        "        u\"\\u2069\"\n",
        "        u\"\\u2066\"\n",
        "        u\"\\u200c\"\n",
        "        u\"\\u2068\"\n",
        "        u\"\\u2067\"\n",
        "        \"]+\", flags=re.UNICODE)\n",
        "\n",
        "    text = wierd_pattern.sub(r'', text)\n",
        "\n",
        "    # removing extra spaces, hashtags\n",
        "    text = re.sub(\"#\", \"\", text)\n",
        "    text = re.sub(\"\\s+\", \" \", text)\n",
        "\n",
        "    return text"
      ],
      "metadata": {
        "id": "1zH3WmhLnxFt"
      },
      "execution_count": 34,
      "outputs": []
    },
    {
      "cell_type": "code",
      "source": [
        "text_1 = cleaning(text_1)\n",
        "text_2 = cleaning(text_2)"
      ],
      "metadata": {
        "id": "3Bk3ySTgn3wx"
      },
      "execution_count": 35,
      "outputs": []
    },
    {
      "cell_type": "code",
      "source": [
        "chunks_2 = chunk_text(text_2, chunk_size=1070)\n",
        "chunks_2.append(text_1)"
      ],
      "metadata": {
        "id": "2DS4gad5mlW3"
      },
      "execution_count": 36,
      "outputs": []
    },
    {
      "cell_type": "markdown",
      "source": [
        "# Initialize Retrieval Model"
      ],
      "metadata": {
        "id": "eef6COPToj1v"
      }
    },
    {
      "cell_type": "code",
      "source": [
        "from transformers import AutoTokenizer, AutoModel\n",
        "from sentence_transformers import SentenceTransformer\n",
        "import torch\n",
        "\n",
        "model = SentenceTransformer('all-MiniLM-L6-v2')"
      ],
      "metadata": {
        "colab": {
          "base_uri": "https://localhost:8080/"
        },
        "id": "j0Z0Vileoh_Y",
        "outputId": "e7a36b07-3a4f-4125-caed-c324cdd1434d"
      },
      "execution_count": 83,
      "outputs": [
        {
          "output_type": "stream",
          "name": "stderr",
          "text": [
            "/usr/local/lib/python3.10/dist-packages/huggingface_hub/file_download.py:1132: FutureWarning: `resume_download` is deprecated and will be removed in version 1.0.0. Downloads always resume when possible. If you want to force a new download, use `force_download=True`.\n",
            "  warnings.warn(\n"
          ]
        }
      ]
    },
    {
      "cell_type": "code",
      "source": [
        "embeddings = model.encode(chunks_2, convert_to_tensor=True)"
      ],
      "metadata": {
        "id": "RD_pQuP1sF6Q"
      },
      "execution_count": 84,
      "outputs": []
    },
    {
      "cell_type": "code",
      "source": [
        "from google.colab import drive\n",
        "import torch\n",
        "\n",
        "# Mount Google Drive\n",
        "drive.mount('/content/drive')\n",
        "\n",
        "save_path = '/content/drive/My Drive/chunk_embeddings.pt'\n",
        "\n",
        "torch.save(embeddings, save_path)"
      ],
      "metadata": {
        "colab": {
          "base_uri": "https://localhost:8080/"
        },
        "id": "PIEnI-xIpD6X",
        "outputId": "aa038dbd-94e4-4785-fcb5-50982f3da2ae"
      },
      "execution_count": 85,
      "outputs": [
        {
          "output_type": "stream",
          "name": "stdout",
          "text": [
            "Drive already mounted at /content/drive; to attempt to forcibly remount, call drive.mount(\"/content/drive\", force_remount=True).\n"
          ]
        }
      ]
    },
    {
      "cell_type": "code",
      "source": [
        "embeddings = torch.load(save_path)"
      ],
      "metadata": {
        "id": "tbFO_HGqpS1_"
      },
      "execution_count": 86,
      "outputs": []
    },
    {
      "cell_type": "markdown",
      "source": [
        "# Define the retriever function"
      ],
      "metadata": {
        "id": "i3OTZqtjprs9"
      }
    },
    {
      "cell_type": "code",
      "source": [
        "from sentence_transformers import util\n",
        "import torch\n",
        "\n",
        "\n",
        "def find_best_matching_document(query, model, embeddings, articles):\n",
        "    query_embedding = model.encode(query, convert_to_tensor=True)\n",
        "    similarity_scores = util.pytorch_cos_sim(query_embedding, embeddings)[0]\n",
        "    best_match_index = int(similarity_scores.argmax())\n",
        "    return articles[best_match_index]\n",
        "\n",
        "query = \"چگونه میتوانم از صورت جلسات ماه ۵ پرینت بگیرم؟\"\n",
        "best_matching_document = find_best_matching_document(query, model, embeddings, chunks_2)\n",
        "print(\"Best Matching Document:\\n\", best_matching_document)"
      ],
      "metadata": {
        "colab": {
          "base_uri": "https://localhost:8080/"
        },
        "id": "kktqHyv9posp",
        "outputId": "66ca6b9c-ad2d-4ba6-a050-b98248a88304"
      },
      "execution_count": 87,
      "outputs": [
        {
          "output_type": "stream",
          "name": "stdout",
          "text": [
            "Best Matching Document:\n",
            " اشغال کلیه طبقات، تحت هر عنوان و به هر شکل، بیش از میزان تعیینشده در جداول چهارگانه استفاده از اراضی پهنههای اصلی و مستثنی شده در این بند، ممنوع است. (اصلاح طبق بند (۶) مصوبه مورخ ۰۵ / ۰۸ / ۱۳۹۳ شورای عالی شهرسازی و معماری ایران) ۸ - ۳: در کلیه زیرپهنههای استفاده از اراضی، به استثنای محدودههای تاریخی و پهنههای r ۲، s ۳، m ۲ و g، با کاهش سطح اشغال طبقات و با رعایت سقف تراکم مجاز، به منظور تحققپذیری راهبردهای طرح جامع شهر تهران، افزایش طبقه بر اساس دستورالعملی که به تصویب کمیسیون ماده پنج خواهد رسید، مجاز خواهد بود. (اصلاح طبق بند (۷) مصوبه مورخ ۰۵ / ۰۸ / ۱۳۹۳ شورایعالی شهرسازی و معماری ایران) تبصره (۲): حذف تبصره به دلیل مغایرت با متن بند فوق طبق بند (۱) مصوبه مورخ ۲۸ / ۰۷ / ۱۳۹۳ شورای عالی شهرسازی و معماری ایران ۸ - ۴: در کلیه پهنهها، تخصیص حداقل ۵۰ درصد از سطح باز قطعه (پس از کسر مساحت رامپ) به فضای سبز و مشجر، الزامی است. در پهنههای s ۳۱، ضوابط مندرج دربند ۱۱ - ۳ ملاک عمل است. ۸ - ۵: سطح اشغال زیرزمین قطعات واقع در پهنههای فعالیت و مختلط، (صرفا به منظور استقرار پارکینگ، تأسیسات و سایر مشاعات ساختمان) برای زیرزمین اول حداکثر ۸۰ درصد و در زیرزمینهای دوم به بعد، در صورت عدم وجود درخت در وضع موجود ملک، تا ۱۰۰ درصد مساحت قطعه، مجاز است. (اصلاح طبق بند (۱) مصوبه مورخ ۲۸ / ۰۷ / ۱۳۹۳ شورای عالی شهرسازی و معماری ایران) تبصره: در اراضی و املاک با نوعیت باغ، ضمن رعایت مفاد دستورالعمل اصلاحی ماده (۱۴) قانون زمین شهری (مصوب ۰۳ / ۰۴ / ۱۳۹۸) زیرزمین حداکثر در یک طبقه و سطح اشغال آن، حداکثر معادل سطح اشغال طبقه همکف است. (اصلاح طبق دستورالعمل ماده ۱۴ قانون زمین شهری مورخ ۰۳ / ۰۴ / ۱۳۹۸) ۸ - ۶: تا تهیه و تصویب طرح موضوعی ساماندهی حق انتقال توسعه، در محدودههای مسکونی با محدودیتهای ارتفاعی (بدلایل حرایم امنیتی و یا حرایم مربوط به میراث فرهنگی و تاریخی)، افزایش سطح اشغال تا ۸۰ درصد با رعایت سقف تراکم ساختمانی مجاز و سایر ضوابط پهنه مربوطه مجاز است. همچنین در محورها و گسترههای زیرپهنههای مختلط و فعالیت نیز، در صورت محدودیتهای ارتفاعی، افزایش سطح اشغال تا ۹۰ درصد، با رعایت سقف تراکم ساختمانی مجاز و سایر ضوابط زیرپهنه مربوطه، مجاز است. (اصلاح طبق بند (۳ - ۱) مصوبه مورخ ۲۸ / ۰۷ / ۱۳۹۳ شورای عالی شهرسازی و معماری ایران) تبصره: دستورالعمل ساماندهی نظام حق انتقال توسعه، میبایست بر اساس بند ۸ - ۱۷ پیوست شماره ۴ سند طرح جامع، توسط وزارت راه و شهرسازی تهیه و به تصویب مجلس شورای اسلامی رسد. (اصلاح طبق بند (۱) و (۳ - ۱) مصوبه مورخ ۲۸ / ۰۷ / ۱۳۹۳ شورای عالی شهرسازی و معماری ایران) ۸ - ۷: حذف به دلیل ادغام متن آن با بند ۶ - ۸ و انتقال تبصره ذیل آن به بند ۶ - ۸ ۸ - ۸: میزان سطح اشغال در طبقات همکف و بالای آن در ساختمانهای پارکینگ عمومی و طبقاتی، براساس راهبردهای طرح جامع تهران و مصوبات کمیسیون ماده پنج شهر تهران است. ۸ - ۹: ایجاد و توسعه فضای سبز، بر بدنه و فضاهای بلا استفاده ساختمان در شهر تهران، براساس مصوبه مورخ ۲۵ / ۰۹ / ۱۳۸۷ شورایعالی شهرسازی و معماری ایران، موسوم به ضوابط و مقررات ارتقاء کیفی سیما و منظر شهری (پاکسازی و بهسازی نماها و جدارهها، مناسبسازی معابر پیادهراهی و پیادهروها و ساماندهی منظر شهری)» مصوبات شورای اسلامی شهر تهران است. شهرداری تهران موظف است، ضمن تهیه و تدوین دستورالعملهای لازمه، موجبات حمایتهای مؤثر و همهجانبه از مشارکت شهروندان در گسترش فضای سبز و زیباسازی منظر شهری را با ایجاد و توسعه فضای سبز به صورت عمودی و افقی در بدنه ساختمانهای کلیه ساخت و سازهای مجاز پهنههای استفاده از اراضی، فراهم سازد. (۹): تفکیک، افراز و تجمیع قطعات (پلاکها) ۹ - ۱: تفکیک یا افراز اراضی و املاک، ضمن رعایت مفاد قانون اصلاح ماده (۱۰۱) قانون شهرداریها (۲۸ / ۰۲ / ۱۳۹۰) و دستورالعمل اصلاحی ماده ۱۴ قانون زمین شهری (۰۳ / ۰۴ / ۱۳۹۸) در زیر پهنههای مسکونی شهر، با وسعت کمتر از ۱۰۰۰ مترمربع، بعد از رعایت برهای اصلاحی، و در سایر پهنهها، با وسعت کمتر از ۲۰۰۰ مترمربع، بعد از رعایت برهای اصلاحی، ممنوع است. در صورت درخواست تفکیک برای اراضی و املاک بیش از نصابهای مذکور، حداقل مساحت کلیه قطعات حاصل از تفکیک نباید از ۵۰۰ مترمربع در پهنه مسکونی و ۱۰۰۰ مترمربع در سایر پهنهها، کمتر باشد. تبصره (۱): حداقل عرض قطعات حاصل از تفکیک اراضی در پهنههای مسکونی نباید کمتر از ده متر و همچنین نسبت طول به عرض قطعه نباید از حداکثر پنج به یک، بیشتر باشد. بدیهی است تعیین جهت و راستای تفکیک، به عهده شهرداری منطقه است. تبصره (۲): حداقل عرض قطعه حاصل از تفکیک اراضی در پهنههای فعالیت و مختلط نباید کمتر از پانزده متر و همچنین نسبت طول به عرض قطعه نباید از حداکثر شش به یک، بیشتر باشد. تبصره (۳): تفکیک قهری (ناشی از عبور گذر و یا طرحهای اجرایی) مشمول حدنصاب ضوابط تفکیک نمیشود. تبصره (۴): طبق مفاد دستورالعمل اجرایی ماده (۱۴) قانون زمین شهری (مصوب مورخ ۰۳ / ۰۴ / ۱۳۹۸ شورایعالی شهرسازی و معماری) در زیرپهنههای باغات انبوه (g ۲۱۱) و r ۲۴۱، حداقل قطعه حاصل از تفکیک و افراز اراضی، یک هکتار و در باغات پراکنده (املاک و اراضی با نوعیت باغ)، حداقل ۵۰۰۰ مترمربع است. ۹ - ۲: در کلیه پهنههای استفاده از زمین شهر تهران، تفکیک اعیان ساختمانهایی که طبق ضوابط و مقررات این سند احداثشده، در صورت انطباق با گواهی پایان کار صادره از شهرداری، مجاز بوده و هرگونه تفکیک اعیانی مغایر با گواهی پایان کار شهرداری، ممنوع است. ۹ - ۳: تفکیک یا افراز کلیه اراضی بزرگ مقیاس (بیش از یک هکتار) که در مالکیت اشخاص حقیقی و حقوقی، از جمله تحت مالکیت یا در اختیار دستگاههای دولتی و عمومی و نیروهای نظامی و انتظامی است، صرفا با تهیه طرحهای توجیهی و تصویب آنها در کمیسیون ماده پنج و براساس ضوابط پهنههای استفاده از اراضی در طرحهای جامع و تفصیلی، مجاز است. بدیهی است در مواردی که محدوده ملک در زیرپهنه s ۲۲۱ و s ۲۲۲ و یا اراضی ذخیره توسعه و نوسازی شهری باشد، هرگونه مداخله میباید با تهیه طرحهای توجیهی و تصویب آنها در مراجع ذیربط انجام پذیرد. تبصره (۱): شهرداری تهران مکلف است از اولین سال اجرای طرح تفصیلی، نسبت به تدقیق و تعیین ضوابط تفکیک و افراز اراضی و املاک به تفکیک زیرپهنهها\n"
          ]
        }
      ]
    },
    {
      "cell_type": "markdown",
      "source": [
        "# Define Generative Model"
      ],
      "metadata": {
        "id": "_RWMl3sH21gG"
      }
    },
    {
      "cell_type": "code",
      "source": [
        "import torch\n",
        "from transformers import AutoTokenizer, GPT2LMHeadModel, pipeline\n",
        "from datasets import load_dataset\n",
        "\n",
        "\n",
        "device = torch.device(\"cuda\" if torch.cuda.is_available() else \"cpu\")\n",
        "\n",
        "# GPT-2 Small\n",
        "model_name = \"gpt2\"\n",
        "tokenizer1 = AutoTokenizer.from_pretrained(model_name)\n",
        "tokenizer1.pad_token = tokenizer1.eos_token\n",
        "model1 = GPT2LMHeadModel.from_pretrained(model_name)"
      ],
      "metadata": {
        "id": "3wonera1uNxW"
      },
      "execution_count": 88,
      "outputs": []
    },
    {
      "cell_type": "code",
      "source": [
        "def QA_gpt2(query, article):\n",
        "    prompt = f\"بهترین پاسخ برای سوال روبه‌رو باتوجه به متن داده شده چیست؟ \\n سوال: {query}\\n\\nمتن: {article}\"\n",
        "    inputs = tokenizer1.encode(prompt, return_tensors=\"pt\", max_length=512, truncation=True)\n",
        "    ids = model1.generate(inputs, max_length=1024, num_return_sequences=1)\n",
        "    output = tokenizer1.decode(ids[0], skip_special_tokens=True)\n",
        "    return output\n",
        "\n",
        "# Test with an example query\n",
        "query = \"چگونه میتوانم از صورت جلسات ماه ۵ پرینت بگیرم؟\"\n",
        "best_matching_document = find_best_matching_document(query, model, embeddings, chunks_2)\n",
        "summary_gpt2 = QA_gpt2(query, best_matching_document)\n",
        "\n",
        "print(f\"{summary_gpt2}\")"
      ],
      "metadata": {
        "colab": {
          "base_uri": "https://localhost:8080/"
        },
        "id": "jFqmR9BlsrUl",
        "outputId": "77978652-d8fb-456b-923d-6c4e67760103"
      },
      "execution_count": 92,
      "outputs": [
        {
          "output_type": "stream",
          "name": "stderr",
          "text": [
            "The attention mask and the pad token id were not set. As a consequence, you may observe unexpected behavior. Please pass your input's `attention_mask` to obtain reliable results.\n",
            "Setting `pad_token_id` to `eos_token_id`:50256 for open-end generation.\n"
          ]
        },
        {
          "output_type": "stream",
          "name": "stdout",
          "text": [
            "Summary: بهترین پاسخ برای سوال روبه‌رو باتوجه به متن داده شده چیست؟ \n",
            " سوال: چگونه میتوانم از صورت جلسات ماه ۵ پرینت بگیرم؟\n",
            "\n",
            "متن: اشغال کلیه طبقات، تحت هر عنوان و به هر شکل، بیش از میزان تعیینشده در جداول چهارگانه استفاده از اراضی پهنههای اصلی و مستثنی شده در این بند، ممنوع است. (اصلاح طبق بند (۶) مصوبه مورخ ۰۵ / ۰۸ / ۱۳۹۳ شورای عالی شهرسازی و معماری ایران) ۸ - ۳: در کلیه زیرپهنههای استفاده از اراضی، به استثنای محدودههای تاریخی و پهنههای r ۲، s ۳، m ۲ و g، با کاه کلیه به من در جداول چهارگانه استفاده از اراضی پهنهای اصلی و مستثنی شده در این بند، ممنوع استفاده از اراضی، به استثنای محدودههای تاریخی و معماری ایران) ۸ - ۳: در کلیه زیرپهنهای استفاده از اراضی، به استثنای محدودههای تاریخی و پهنهای اصلی و مستثنی شده در این بند، ممنوع استفاده از اراضی، به استثنای محدودههای تاریخی و معماری ایران) ۸ - ۳: در کلیه زیرپهنهای استفاده از اراضی، به استثنای محدودههای تاریخی و معماری ایران) ۸ - ۳: در کلیه زیرپهنهای استفا�\n"
          ]
        }
      ]
    },
    {
      "cell_type": "markdown",
      "source": [
        "# Evaluation"
      ],
      "metadata": {
        "id": "oGdxm70q262w"
      }
    },
    {
      "cell_type": "code",
      "source": [
        "pip install pandas"
      ],
      "metadata": {
        "colab": {
          "base_uri": "https://localhost:8080/"
        },
        "id": "2E6L14nIs3dJ",
        "outputId": "b1bf5d16-d1f7-4d1e-8578-45e7d9a40967"
      },
      "execution_count": 93,
      "outputs": [
        {
          "output_type": "stream",
          "name": "stdout",
          "text": [
            "Requirement already satisfied: pandas in /usr/local/lib/python3.10/dist-packages (2.0.3)\n",
            "Requirement already satisfied: python-dateutil>=2.8.2 in /usr/local/lib/python3.10/dist-packages (from pandas) (2.8.2)\n",
            "Requirement already satisfied: pytz>=2020.1 in /usr/local/lib/python3.10/dist-packages (from pandas) (2023.4)\n",
            "Requirement already satisfied: tzdata>=2022.1 in /usr/local/lib/python3.10/dist-packages (from pandas) (2024.1)\n",
            "Requirement already satisfied: numpy>=1.21.0 in /usr/local/lib/python3.10/dist-packages (from pandas) (1.24.3)\n",
            "Requirement already satisfied: six>=1.5 in /usr/local/lib/python3.10/dist-packages (from python-dateutil>=2.8.2->pandas) (1.16.0)\n"
          ]
        }
      ]
    },
    {
      "cell_type": "code",
      "source": [
        "import random\n",
        "import pandas as pd\n",
        "\n",
        "# Replace 'questions.xlsx' with the path to your Excel file\n",
        "file_path = 'questions.xlsx'\n",
        "\n",
        "# Read the Excel file\n",
        "df = pd.read_excel(file_path)\n",
        "\n",
        "# Assuming the questions are in a column named 'Questions'\n",
        "questions_list = df['question'].tolist()\n",
        "filtered_questions = [q for q in questions_list if len(q.split()) < 20]\n",
        "random_questions = random.sample(filtered_questions, 10)\n",
        "\n",
        "# Display the list of questions\n",
        "print(random_questions)"
      ],
      "metadata": {
        "colab": {
          "base_uri": "https://localhost:8080/"
        },
        "id": "k_D5cUw00yDW",
        "outputId": "cb57af78-13ea-42a9-95ec-c9d3c62ae7d9"
      },
      "execution_count": 100,
      "outputs": [
        {
          "output_type": "stream",
          "name": "stdout",
          "text": [
            "['شهربان و نقش آن در کنترل و نظارت برساخت و سازهای شهر چیست؟', 'هزینه مشاعات ساختمان بر عهده کیست؟ ', ' تفکیک و افراز املاک چگونه است؟', 'تعریف بافت فرسوده و ناپایدار چیست ؟', 'انواع پروانه های ساختمانی را نام ببرید؟', 'احداث کنسول برروی چه گذرهایی و به چه میزان مجاز میباشد؟', 'مدارک لازم جهت صدور فیش های درآمد و نوسازی', 'آیا احداث استخر و سونا و جکوزی و مشتقات آن در زیرزمین مجاز است؟', 'دسترسی و نورگیری از فضای سبز عمومی چگونه است؟', 'مدارک مورد نیاز برای پیش نویس پایان کار ساختمان  کدام است؟']\n"
          ]
        }
      ]
    },
    {
      "cell_type": "code",
      "source": [
        "for query in random_questions:\n",
        "  best_matching_document = find_best_matching_document(query, model, embeddings, chunks_2)\n",
        "  output_gpt2 = QA_gpt2(query, best_matching_document)\n",
        "  print(f\"\\n{output_gpt2}\")"
      ],
      "metadata": {
        "colab": {
          "base_uri": "https://localhost:8080/"
        },
        "id": "Gno9QIOV1GNI",
        "outputId": "24446593-45a7-4013-ef5d-ffe90273d73d"
      },
      "execution_count": 102,
      "outputs": [
        {
          "output_type": "stream",
          "name": "stderr",
          "text": [
            "The attention mask and the pad token id were not set. As a consequence, you may observe unexpected behavior. Please pass your input's `attention_mask` to obtain reliable results.\n",
            "Setting `pad_token_id` to `eos_token_id`:50256 for open-end generation.\n",
            "The attention mask and the pad token id were not set. As a consequence, you may observe unexpected behavior. Please pass your input's `attention_mask` to obtain reliable results.\n",
            "Setting `pad_token_id` to `eos_token_id`:50256 for open-end generation.\n"
          ]
        },
        {
          "output_type": "stream",
          "name": "stdout",
          "text": [
            "\n",
            "بهترین پاسخ برای سوال روبه‌رو باتوجه به متن داده شده چیست؟ \n",
            " سوال: شهربان و نقش آن در کنترل و نظارت برساخت و سازهای شهر چیست؟\n",
            "\n",
            "متن: اشغال کلیه طبقات، تحت هر عنوان و به هر شکل، بیش از میزان تعیینشده در جداول چهارگانه استفاده از اراضی پهنههای اصلی و مستثنی شده در این بند، ممنوع است. (اصلاح طبق بند (۶) مصوبه مورخ ۰۵ / ۰۸ / ۱۳۹۳ شورای عالی شهرسازی و معماری ایران) ۸ - ۳: در کلیه زیرپهنههای استفاده از اراضی، به استثنای محدودههای تاریخی و پهنههای r ۲، s ۳، m ۲ و ۱۳۹۳ شورای عالی شهرسازی و معماری ایران) ۸ - ۳: در کلیه زیرپهنهای استفاده از اراضی، به استثنای محدودههای تاریخی و پهنهای r ۲، s ۳، m ۲ و ۱۳۹۳ شورای عالی شهرسازی و معماری ایران) ۸ - ۳: در کلیه زیرپهنهای استفاده از اراضی، به استثنای محدودههای تاریخی و پهنهای r ۲، s ۳، m ۲ و ۱۳۹۳ شورای عالی شهرسازی و معماری ایران) ۸ - ۳: در کلیه زیرپهنهای استفاده از اراضی، به استثنای محدودههای تاریخی و پهنهای r ۲، s ۳، m ۲ و ۱۳۹۳ شورای عالی شهرسازی و معماری\n"
          ]
        },
        {
          "output_type": "stream",
          "name": "stderr",
          "text": [
            "The attention mask and the pad token id were not set. As a consequence, you may observe unexpected behavior. Please pass your input's `attention_mask` to obtain reliable results.\n",
            "Setting `pad_token_id` to `eos_token_id`:50256 for open-end generation.\n"
          ]
        },
        {
          "output_type": "stream",
          "name": "stdout",
          "text": [
            "\n",
            "بهترین پاسخ برای سوال روبه‌رو باتوجه به متن داده شده چیست؟ \n",
            " سوال: هزینه مشاعات ساختمان بر عهده کیست؟ \n",
            "\n",
            "متن: تامین فضاهای خدماتی مورد نیاز شهر اقدام مینماید طرح فوق میبایست به تصویب کمیسیون ماده پنج شهر تهران برسند. (اصلاح طبق بند (۱) مصوبه مورخ ۲۸ / ۰۷ / ۱۳۹۳ شورای عالی شهرسازی و معماری ایران) ۱۶ - ۲۲: سازمانهای اجرایی ذیربط موظف به همکاری با شهرداری تهران برای تهیه و تکمیل لایههای حرایم طبیعی و مصنوع در نقشههای طرح تفصیلی جدید شهر تهران میباشند. ۱۶ - ۲۲: سازمانهای اجرایی ذیربط موظف به همکاری با شهرداری تهیه و تکمیل لایههای حرایم طبیعی و مصنوع در نقشههای طرح تفصیلی جدید شهر تهران میباشند. ۱۶ - ۲۲: سازمانهای اجرایی ذیربط موظف به همکاری با شهرداری تهیه و تکمیل لایههای حرایم طبیعی و مصنوع در نقشههای طرح تفصیلی جدید شهر تهران میباشند. ۱۶ - ۲۲: سازمانهای اجرایی ذیربط موظف به همکاری با شهرداری تهیه و تکمیل لایههای حرایم طبیعی و مصنوع در نقشههای طرح تفصیلی جدید شهر تهران میباش\n"
          ]
        },
        {
          "output_type": "stream",
          "name": "stderr",
          "text": [
            "The attention mask and the pad token id were not set. As a consequence, you may observe unexpected behavior. Please pass your input's `attention_mask` to obtain reliable results.\n",
            "Setting `pad_token_id` to `eos_token_id`:50256 for open-end generation.\n"
          ]
        },
        {
          "output_type": "stream",
          "name": "stdout",
          "text": [
            "\n",
            "بهترین پاسخ برای سوال روبه‌رو باتوجه به متن داده شده چیست؟ \n",
            " سوال:  تفکیک و افراز املاک چگونه است؟\n",
            "\n",
            "متن: تهران، ملزم است ظرف مدت سه ماه نسبت به تدوین آییننامهای برای تعیین چارچوب تشکیلاتی (از شورای معماری منطقه تا کمیسیون عالی راهبری اجرای طرح تفصیلی) و فعالیت این ساز و کار، اقدام نماید. جدول شماره (۱۱): فعالیتهای مجاز به استقرار در مرکز محله به عنوان خدمات پشتیبان سکونت ردیف عملکردها ۱ خواربارفروشی، سوپرمارکت، بقالی، قصابی، عرضه مواد پروتئینی برای تعینی چارچوب تشکیلاتی برای تعینی چارچوب تشکیلاتی برای تعینی چارچوب تشکیلاتی برای تعینی چارچوب تشکیلاتی برای تعینی چارچوب تشکیلاتی برای تعینی چارچوب تشکیلاتی برای تعینی چارچوب تشکیلاتی برای تعینی چارچوب تشکیلاتی برای تعینی چارچوب تشکیلاتی برای تعینی چارچوب تشکیلاتی برای تعینی چارچوب تشکیلاتی برای تعینی چارچوب تشکیلاتی برای تعینی چارچوب تشکیلاتی برای تعینی چارچوب تشکیلاتی برای ت\n"
          ]
        },
        {
          "output_type": "stream",
          "name": "stderr",
          "text": [
            "The attention mask and the pad token id were not set. As a consequence, you may observe unexpected behavior. Please pass your input's `attention_mask` to obtain reliable results.\n",
            "Setting `pad_token_id` to `eos_token_id`:50256 for open-end generation.\n"
          ]
        },
        {
          "output_type": "stream",
          "name": "stdout",
          "text": [
            "\n",
            "بهترین پاسخ برای سوال روبه‌رو باتوجه به متن داده شده چیست؟ \n",
            " سوال: تعریف بافت فرسوده و ناپایدار چیست ؟\n",
            "\n",
            "متن: تهران، ملزم است ظرف مدت سه ماه نسبت به تدوین آییننامهای برای تعیین چارچوب تشکیلاتی (از شورای معماری منطقه تا کمیسیون عالی راهبری اجرای طرح تفصیلی) و فعالیت این ساز و کار، اقدام نماید. جدول شماره (۱۱): فعالیتهای مجاز به استقرار در مرکز محله به عنوان خدمات پشتیبان سکونت ردیف عملکردها ۱ خواربارفروشی، سوپرمارکت، بقالی، قصابی، عرضه مواد پروتئین به عنوان خدمات پروتئین به عنوان خدمات پروتئین به عنوان خدمات پروتئین به عنوان خدمات پروتئین به عنوان خدمات پروتئین به عنوان خدمات پروتئین به عنوان خدمات پروتئین به عنوان خدمات پروتئین به عنوان خدمات پروتئین به عنوان خدمات پروتئین به عنوان خدمات پروتئین به عنوان خدمات پروتئین به عنوان خدمات پروتئین به عنوان خدمات پروتئین به عنوان خدمات پروتئین به عنوان خدمات پروتئین به عنوان خدمات پروتئین به عنوان خدمات پروتئین به عنوان خدمات پروتئین به عنوان خدمات پروتئین به عنوان خد\n"
          ]
        },
        {
          "output_type": "stream",
          "name": "stderr",
          "text": [
            "The attention mask and the pad token id were not set. As a consequence, you may observe unexpected behavior. Please pass your input's `attention_mask` to obtain reliable results.\n",
            "Setting `pad_token_id` to `eos_token_id`:50256 for open-end generation.\n"
          ]
        },
        {
          "output_type": "stream",
          "name": "stdout",
          "text": [
            "\n",
            "بهترین پاسخ برای سوال روبه‌رو باتوجه به متن داده شده چیست؟ \n",
            " سوال: انواع پروانه های ساختمانی را نام ببرید؟\n",
            "\n",
            "متن: به توسعه، احداث و بهرهبرداری و صدور اسناد تفکیکی پارکینگهای محلهای، منطقهای و شهری، برای واگذاری به شهروندان اقدام نماید. ۱۲ - ۹: ابعاد پارکینگ حداقل فضای خالص برای پارکینگهای مسقف و غیر مسقف، متناسب با تعداد واحد و به ترتیب برای یک واحد ۵ × ۵ / ۲ متر، برای دو واحد ۵ × ۵ / ۴ متر و برای سه واحد ۵ × ۵ / ۶ متر است. عرض مفید راه عبوری پارکینگ، نیز به شهروندان اقدام نماید. ۱۲ - ۹: ابعاد پارکینگ حداقل فضای خالص برای پارکینگهای مسقف و غیر مسقف، متناسب با تعداد واحد و به ترتیب برای دو واحد و به ترتیب برای دو واحد و به ترتیب برای دو واحد و به ترتیب برای دو واحد و به ترتیب برای دو واحد و به ترتیب برای دو واحد و به ترتیب برای دو واحد و به ترتیب برای دو واحد و به ترتیب برای دو واحد و به ترتیب برای دو واحد و به ترتیب برای دو واحد و به ترتیب برای دو واحد و به ترتیب برای دو واحد و به ترتیب برای دو واحد و به ترتیب برای دو واحد و به ترتیب برای دو\n"
          ]
        },
        {
          "output_type": "stream",
          "name": "stderr",
          "text": [
            "The attention mask and the pad token id were not set. As a consequence, you may observe unexpected behavior. Please pass your input's `attention_mask` to obtain reliable results.\n",
            "Setting `pad_token_id` to `eos_token_id`:50256 for open-end generation.\n"
          ]
        },
        {
          "output_type": "stream",
          "name": "stdout",
          "text": [
            "\n",
            "بهترین پاسخ برای سوال روبه‌رو باتوجه به متن داده شده چیست؟ \n",
            " سوال: احداث کنسول برروی چه گذرهایی و به چه میزان مجاز میباشد؟\n",
            "\n",
            "متن: اشغال کلیه طبقات، تحت هر عنوان و به هر شکل، بیش از میزان تعیینشده در جداول چهارگانه استفاده از اراضی پهنههای اصلی و مستثنی شده در این بند، ممنوع است. (اصلاح طبق بند (۶) مصوبه مورخ ۰۵ / ۰۸ / ۱۳۹۳ شورای عالی شهرسازی و معماری ایران) ۸ - ۳: در کلیه زیرپهنههای استفاده از اراضی، به استثنای محدودههای تاریخی و پهنههای r ۲، s ۳، m ۲، ۱۳۹۳ شورای عالی شهرسازی و معماری ایران) ۸ - ۳: در کلیه زیرپهنهای استفاده از اراضی، به استثنای محدودههای تاریخی و پهنهای استثنای محدودههای تاریخی و معماری ایران) ۸ - ۳: در کلیه زیرپهنهای استفاده از اراضی، به استثنای محدودههای تاریخی و پهنهای استثنای محدودههای تاریخی و معماری ایران) ۸ - ۳: در کلیه زیرپهنهای استفاده از اراضی، به استثنای محدودههای تاریخی و پهنهای استثنای محدودههای تاریخی و معماری ایران) ۸ - ۳: در کلیه زیرپهنهای استفا�\n"
          ]
        },
        {
          "output_type": "stream",
          "name": "stderr",
          "text": [
            "The attention mask and the pad token id were not set. As a consequence, you may observe unexpected behavior. Please pass your input's `attention_mask` to obtain reliable results.\n",
            "Setting `pad_token_id` to `eos_token_id`:50256 for open-end generation.\n"
          ]
        },
        {
          "output_type": "stream",
          "name": "stdout",
          "text": [
            "\n",
            "بهترین پاسخ برای سوال روبه‌رو باتوجه به متن داده شده چیست؟ \n",
            " سوال: مدارک لازم جهت صدور فیش های درآمد و نوسازی\n",
            "\n",
            "متن: تامین فضاهای خدماتی مورد نیاز شهر اقدام مینماید طرح فوق میبایست به تصویب کمیسیون ماده پنج شهر تهران برسند. (اصلاح طبق بند (۱) مصوبه مورخ ۲۸ / ۰۷ / ۱۳۹۳ شورای عالی شهرسازی و معماری ایران) ۱۶ - ۲۲: سازمانهای اجرایی ذیربط موظف به همکاری با شهرداری تهران برای تهیه و تکمیل لایههای حرایم طبیعی و مصنوع در نقشههای طرح تفصیلی جدید شهر تهران میبایست به تصویب کمیسیون ماده پنج شهر تهران برسند. (اصلاح طبق بند (۱) مصوبه مورخ ۲۸ / ۰۷ / ۱۳۹۳ شورای عالی شهرسازی و معماری ایران) ۱۶ - ۲۲: سازمانهای اجرایی ذیربط موظف به همکاری با شهرداری تهیه و تکمیل لایههای حرایم طبیعی و مصنوع در نقشههای طرح تفصیلی جدید شهر تهران میبایست به تصویب کمیسیون ماده پنج شهر تهران برسند. (اصلاح طبق بند (۱) مصوبه مورخ ۲۸ / ۰۷ / ۱۳۹۳ شورای عالی شهرسازی و معماری ایران) ۱۶ - ۲۲: سازمانهای اجرایی ذیربط موظف به همکاری با ش\n"
          ]
        },
        {
          "output_type": "stream",
          "name": "stderr",
          "text": [
            "The attention mask and the pad token id were not set. As a consequence, you may observe unexpected behavior. Please pass your input's `attention_mask` to obtain reliable results.\n",
            "Setting `pad_token_id` to `eos_token_id`:50256 for open-end generation.\n"
          ]
        },
        {
          "output_type": "stream",
          "name": "stdout",
          "text": [
            "\n",
            "بهترین پاسخ برای سوال روبه‌رو باتوجه به متن داده شده چیست؟ \n",
            " سوال: آیا احداث استخر و سونا و جکوزی و مشتقات آن در زیرزمین مجاز است؟\n",
            "\n",
            "متن: مجاز است. ۲ - ۷: میزان سطح اشغال زیرزمین اول (منفی یک) ساختمانهای مسکونی حداکثر معادل سطح اشغال طبقه همکف به شرط عدم قطع درختان، مجاز است. میزان سطح اشغال در زیرزمینهای دوم (منفی دو) به پایین، در کلیه اراضی و املاک واقع در پهنه (r) حداکثر ۸۰ ٪ مساحت ملک پس از رعایت بر اصلاحی صرفا جهت احداث پارکینگ و مشاعات مربوطه، با بر بر بر بر بر بر بر بر بر بر بر بر بر بر بر بر بر بر بر بر بر بر بر بر بر بر بر بر بر بر بر بر بر بر بر بر بر بر بر بر بر بر بر بر بر بر بر بر بر بر بر بر بر بر بر بر بر بر بر بر بر بر بر بر بر بر بر بر بر بر بر بر بر بر بر بر بر بر بر بر بر بر بر بر بر بر بر بر بر بر بر بر بر بر بر بر بر بر بر بر بر بر بر بر بر بر بر بر بر بر بر بر بر بر بر بر بر بر بر بر بر بر بر بر بر بر بر بر بر بر بر بر بر بر بر بر بر بر بر بر بر بر بر بر بر بر بر بر بر بر بر بر بر بر بر بر بر بر بر بر بر بر بر بر بر بر بر بر بر بر بر\n"
          ]
        },
        {
          "output_type": "stream",
          "name": "stderr",
          "text": [
            "The attention mask and the pad token id were not set. As a consequence, you may observe unexpected behavior. Please pass your input's `attention_mask` to obtain reliable results.\n",
            "Setting `pad_token_id` to `eos_token_id`:50256 for open-end generation.\n"
          ]
        },
        {
          "output_type": "stream",
          "name": "stdout",
          "text": [
            "\n",
            "بهترین پاسخ برای سوال روبه‌رو باتوجه به متن داده شده چیست؟ \n",
            " سوال: دسترسی و نورگیری از فضای سبز عمومی چگونه است؟\n",
            "\n",
            "متن: اشغال کلیه طبقات، تحت هر عنوان و به هر شکل، بیش از میزان تعیینشده در جداول چهارگانه استفاده از اراضی پهنههای اصلی و مستثنی شده در این بند، ممنوع است. (اصلاح طبق بند (۶) مصوبه مورخ ۰۵ / ۰۸ / ۱۳۹۳ شورای عالی شهرسازی و معماری ایران) ۸ - ۳: در کلیه زیرپهنههای استفاده از اراضی، به استثنای محدودههای تاریخی و پهنههای r ۲، s ۳، m ۲ و g، با کلیه زیرپهنهای استفاده از اراضی، به استثنای محدودههای تاریخی و پهنهای استفاده از اراضی، به استثنای محدودههای تاریخی و پهنهای استفاده از اراضی، به استثنای محدودههای تاریخی و پهنهای استفاده از اراضی، به استثنای محدودههای تاریخی و پهنهای استفاده از اراضی، به استثنای محدودههای تاریخی و پهنهای استفاده از اراضی، به استثنای محدودههای تاریخی و پهنهای استفاده از اراضی، به استثنای محدودههای تاریخی و پهنهای استفاده از اراضی، به استثنای محدودههای �\n",
            "\n",
            "بهترین پاسخ برای سوال روبه‌رو باتوجه به متن داده شده چیست؟ \n",
            " سوال: مدارک مورد نیاز برای پیش نویس پایان کار ساختمان  کدام است؟\n",
            "\n",
            "متن: طراحی شهری، برای گسترش و توسعه حرکت پیاده و دوچرخه و دسترسی آسان معلولین جسمی و حرکتی در کلیه معابر، با استفاده از مطالعات سند موضوعی طرح جامع حمل و نقل و ترافیک به ویژه در فضاهای عمومی شهر است. ۱۱ - ۴: ایجاد هرگونه دسترسی سواره برای کلیه ساختمانهای واقع در مجاورت بزرگراهها و آزادراهها در کلیه پهنهها ممنوع است. (اصلاح طبق بند (۱) مصلاح طبق بند بند بند بند بند بند بند بند بند بند بند بند بند بند بند بند بند بند بند بند بند بند بند بند بند بند بند بند بند بند بند بند بند بند بند بند بند بند بند بند بند بند بند بند بند بند بند بند بند بند بند بند بند بند بند بند بند بند بند بند بند بند بند بند بند بند بند بند بند بند بند بند بند بند بند بند بند بند بند بند بند بند بند بند بند بند بند بند بند بند بند بند بند بند بند بند بند بند بند بند بند بند بند بند بند بند بند بند بند بند بند بند بند بند بند بند بند بند بند بند بند بند بند بند بند بند\n"
          ]
        }
      ]
    },
    {
      "cell_type": "code",
      "source": [],
      "metadata": {
        "id": "VDOn0DfG1NKV"
      },
      "execution_count": null,
      "outputs": []
    }
  ]
}