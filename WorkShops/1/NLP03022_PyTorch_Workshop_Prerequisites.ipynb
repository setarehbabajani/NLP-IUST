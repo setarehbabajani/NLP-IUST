{
  "cells": [
    {
      "cell_type": "markdown",
      "metadata": {
        "id": "H6oqGiIXvrMl"
      },
      "source": [
        "# NLP02031: PyTorch Workshop\n",
        "Having question about the workshop or this notebook? Contact Erfan Moosavi Monazzah (Tel: @ErfanMoosavi2000).\n",
        "<br>This notebook is adapted from CS224n PyTorch Workshop\n",
        "#### Plan\n",
        "This notebook is an itroduction to pytorch and is a prerequisite for the workshop. We cover the following topics in this notebook:\n",
        "1. Tensors\n",
        "2. Vectorization\n",
        "3. Indexing & Slicing\n",
        "4. AutoGrad"
      ]
    },
    {
      "cell_type": "markdown",
      "metadata": {
        "id": "4gk1UKaNvrMv"
      },
      "source": [
        "## Introduction\n",
        "PyTorch is a deep learning framework, one of the two main frameworks alongside TensorFlow.\n",
        "<br>PyTorch is a popular choice among researchers and practitioners for its ease of use, flexibility, and dynamic computation graph. It allows for seamless use of GPUs, and offers extensive support for common neural network architectures and modules.\n",
        "\n",
        "Some of PyTorch's capabilities include:\n",
        "- Dynamic computation graph\n",
        "- Easy debugging and visualization with tensorboard\n",
        "- Distributed training on multiple GPUs and machines\n",
        "- Support for various neural network architectures and modules, including convolutional and recurrent neural networks, transformers, and more.\n",
        "<br> Let's start by importing PyTorch:"
      ]
    },
    {
      "cell_type": "code",
      "execution_count": 46,
      "metadata": {
        "id": "u0ukr7quvrMx"
      },
      "outputs": [],
      "source": [
        "import torch"
      ]
    },
    {
      "cell_type": "markdown",
      "metadata": {
        "id": "k10ZRdcBwDP3"
      },
      "source": [
        "We are all set to start our tutorial. Let's dive in!"
      ]
    },
    {
      "cell_type": "markdown",
      "metadata": {
        "id": "OLdSN9ZXvrM0"
      },
      "source": [
        "## Tensors\n",
        "**Tensors** are\n",
        "- PyTorch's most basic building block.\n",
        "- multi-dimensional matrices.\n",
        "\n",
        "for example: A 256x256 image might be represented by a `3x256x256` tensor (First dimension represents color channels)\n",
        "<br><font color='yellow'>Quiz: How can we represent a sentence using tensors? 🤔</font>\n",
        "\n",
        "**Answer:** making word_embeddings based of the words of the sentence and then using torch.tensor([word_embeddings[word.lower()] for word in sentence.split() if word.lower() in word_embeddings])<br>\n"
      ]
    },
    {
      "cell_type": "code",
      "execution_count": 47,
      "metadata": {
        "colab": {
          "base_uri": "https://localhost:8080/"
        },
        "id": "hXD7cTLTh4oF",
        "outputId": "c069a4f6-3cb9-4114-ea63-6da3af8d1dc0"
      },
      "outputs": [
        {
          "output_type": "stream",
          "name": "stdout",
          "text": [
            "[[1, 2, 3], [4, 5, 6]]\n"
          ]
        }
      ],
      "source": [
        "list_of_lists = [\n",
        "  [1, 2, 3],\n",
        "  [4, 5, 6],\n",
        "]\n",
        "print(list_of_lists)"
      ]
    },
    {
      "cell_type": "code",
      "execution_count": 48,
      "metadata": {
        "colab": {
          "base_uri": "https://localhost:8080/"
        },
        "id": "-VLgHhj0n3LM",
        "outputId": "571458bd-d0fd-442a-c2d1-a3ff9ac8f838"
      },
      "outputs": [
        {
          "output_type": "stream",
          "name": "stdout",
          "text": [
            "tensor([[[1, 2, 3],\n",
            "         [4, 5, 6]]])\n"
          ]
        }
      ],
      "source": [
        "# Initializing a tensor\n",
        "data = torch.tensor([list_of_lists])\n",
        "print(data)"
      ]
    },
    {
      "cell_type": "markdown",
      "metadata": {
        "id": "1i7vrR1_oO4I"
      },
      "source": [
        "Each tensor has a **data type**, something like:\n",
        "- `torch.float32`\n",
        "- `torch.int`\n",
        "<br>You can specify the data type explicitly when you create the tensor:"
      ]
    },
    {
      "cell_type": "code",
      "execution_count": 49,
      "metadata": {
        "colab": {
          "base_uri": "https://localhost:8080/"
        },
        "id": "t7nMdqgMoLOa",
        "outputId": "be64c6d0-031d-4393-9976-5a0ca20d4716"
      },
      "outputs": [
        {
          "output_type": "stream",
          "name": "stdout",
          "text": [
            "tensor([[0., 1.],\n",
            "        [2., 3.],\n",
            "        [4., 5.]])\n"
          ]
        }
      ],
      "source": [
        "# Notice the dots after the numbers, which specify that they're floats\n",
        "data = torch.tensor([\n",
        "                     [0, 1],\n",
        "                     [2, 3],\n",
        "                     [4, 5]\n",
        "                    ], dtype=torch.float32)\n",
        "print(data)"
      ]
    },
    {
      "cell_type": "markdown",
      "metadata": {
        "id": "aiGCmTsrpkP-"
      },
      "source": [
        "There are a number of utility functions to create tensors in pytorch:\n",
        "- **torch**.zeros(): creates a tensor filled with zeros.\n",
        "- **torch**.ones(): creates a tensor filled with ones.\n",
        "- **torch**.rand(): creates a tensor filled with random values from this range [0, 1).\n",
        "- **torch**.full(): creates a tensor filled with a scalar value.\n",
        "- **torch**.eye(): creates a square tensor with ones on the diagonal and zeros elsewhere.\n",
        "- **torch**.arange(): creates a 1D tensor with evenly spaced values in a given range, space determined by step.\n",
        "- **torch**.linspace(): creates a 1D tensor with evenly spaced values between a start and end value, space determined by number of values."
      ]
    },
    {
      "cell_type": "code",
      "execution_count": 50,
      "metadata": {
        "colab": {
          "base_uri": "https://localhost:8080/"
        },
        "id": "0tn-N-z_qYj0",
        "outputId": "aa4b9495-d7bf-4763-8aa5-83c5a7176783"
      },
      "outputs": [
        {
          "output_type": "stream",
          "name": "stdout",
          "text": [
            "zeros = torch.zeros(2, 5)\n",
            " tensor([[0., 0., 0., 0., 0.],\n",
            "        [0., 0., 0., 0., 0.]]) \n",
            "\n",
            " ones = torch.ones(3, 4)\n",
            " tensor([[1., 1., 1., 1.],\n",
            "        [1., 1., 1., 1.],\n",
            "        [1., 1., 1., 1.]]) \n",
            "\n",
            " randoms = torch.rand(2, 3)\n",
            " tensor([[0.7897, 0.5139, 0.7164],\n",
            "        [0.1293, 0.6369, 0.7717]]) \n",
            "\n",
            " full = torch.full((3, 4), 56.7)\n",
            " tensor([[56.7000, 56.7000, 56.7000, 56.7000],\n",
            "        [56.7000, 56.7000, 56.7000, 56.7000],\n",
            "        [56.7000, 56.7000, 56.7000, 56.7000]]) \n",
            "\n",
            " I = torch.eye(3)\n",
            " tensor([[1., 0., 0.],\n",
            "        [0., 1., 0.],\n",
            "        [0., 0., 1.]]) \n",
            "\n",
            " arange = torch.arange(0, 10, 2)\n",
            " tensor([0, 2, 4, 6, 8]) \n",
            "\n",
            " linspace = torch.linspace(0, 10, 20)\n",
            " tensor([ 0.0000,  0.5263,  1.0526,  1.5789,  2.1053,  2.6316,  3.1579,  3.6842,\n",
            "         4.2105,  4.7368,  5.2632,  5.7895,  6.3158,  6.8421,  7.3684,  7.8947,\n",
            "         8.4211,  8.9474,  9.4737, 10.0000]) \n",
            "\n",
            " empty = torch.empty(2,2)\n",
            " tensor([[2.1561e+15, 4.5115e-41],\n",
            "        [2.1561e+15, 4.5115e-41]])\n"
          ]
        }
      ],
      "source": [
        "zeros = torch.zeros(2, 5)  # shape\n",
        "ones = torch.ones(3, 4) # shape\n",
        "randoms = torch.rand(2, 3) # shape\n",
        "full = torch.full((3,4), 56.7) # shape, fill_value\n",
        "I = torch.eye(3) # diagonal_size\n",
        "arange = torch.arange(0, 10, 2) # start, stop, step\n",
        "linspace = torch.linspace(0, 10, 20) # start, stop, number_of_values\n",
        "empty = torch.empty(2,2) # shape: faster than zeros() or ones() because it does not init the memory it alloc\n",
        "\n",
        "print(\"zeros = torch.zeros(2, 5)\\n\", zeros, \"\\n\\n\",\n",
        "      \"ones = torch.ones(3, 4)\\n\", ones, \"\\n\\n\",\n",
        "      \"randoms = torch.rand(2, 3)\\n\", randoms, \"\\n\\n\",\n",
        "      \"full = torch.full((3, 4), 56.7)\\n\", full, \"\\n\\n\",\n",
        "      \"I = torch.eye(3)\\n\", I, \"\\n\\n\",\n",
        "      \"arange = torch.arange(0, 10, 2)\\n\", arange, \"\\n\\n\",\n",
        "      \"linspace = torch.linspace(0, 10, 20)\\n\", linspace, \"\\n\\n\",\n",
        "      \"empty = torch.empty(2,2)\\n\", empty)\n"
      ]
    },
    {
      "cell_type": "markdown",
      "metadata": {
        "id": "JBNWAJBFJcuS"
      },
      "source": [
        "<font color=\"yellow\">Quiz: Under each comment write the suitable script to create the said tensor</font>\n",
        "<br>$A=\\begin{bmatrix} 1 & 2.2 & 9.6 \\\\ 4 & -7.2 & 6.3 \\end{bmatrix}$\n",
        "<br>$B=\\begin{bmatrix} 1 & 1 \\\\ 1 & 1 \\end{bmatrix}$ (Initialize with 3 different ways?)"
      ]
    },
    {
      "cell_type": "code",
      "execution_count": 51,
      "metadata": {
        "colab": {
          "base_uri": "https://localhost:8080/"
        },
        "id": "4xwTkKjjJcuT",
        "outputId": "fa5b3def-dc09-4d39-aaea-cfd6ab370e89"
      },
      "outputs": [
        {
          "output_type": "stream",
          "name": "stdout",
          "text": [
            "tensor([[ 1.0000,  2.2000,  9.6000],\n",
            "        [ 4.0000, -7.2000,  6.3000]])\n",
            "tensor([[1, 1],\n",
            "        [1, 1]]) \n",
            " tensor([[1., 1.],\n",
            "        [1., 1.]]) \n",
            " tensor([[1, 1],\n",
            "        [1, 1]])\n"
          ]
        }
      ],
      "source": [
        "# A\n",
        "A = torch.tensor([[1, 2.2, 9.6],[4, -7.2, 6.3]], dtype=torch.float32)\n",
        "print(A)\n",
        "\n",
        "# B\n",
        "B1 = torch.tensor([[1, 1], [1, 1]])\n",
        "B2 = torch.ones(2, 2)\n",
        "B3 = torch.full((2, 2), 1)\n",
        "print(B1, '\\n', B2, '\\n', B3)"
      ]
    },
    {
      "cell_type": "code",
      "execution_count": 52,
      "metadata": {
        "colab": {
          "base_uri": "https://localhost:8080/"
        },
        "id": "OFcjwshvi3pC",
        "outputId": "111c6242-b57f-4cd2-92a9-3819dfe9696b"
      },
      "outputs": [
        {
          "output_type": "stream",
          "name": "stdout",
          "text": [
            "A: \n",
            " tensor([[1, 2, 3],\n",
            "        [4, 5, 6]])\n",
            "B: \n",
            " tensor([[1, 2, 3],\n",
            "        [4, 5, 6]])\n",
            "A.shape: \n",
            " torch.Size([2, 3])\n",
            "A + B: \n",
            " tensor([[ 2,  4,  6],\n",
            "        [ 8, 10, 12]])\n",
            "torch.add(A, B): \n",
            " tensor([[ 2,  4,  6],\n",
            "        [ 8, 10, 12]])\n",
            "A - B: \n",
            " tensor([[0, 0, 0],\n",
            "        [0, 0, 0]])\n",
            "torch.sub(A, B): \n",
            " tensor([[0, 0, 0],\n",
            "        [0, 0, 0]])\n",
            "A * B: \n",
            " tensor([[ 1,  4,  9],\n",
            "        [16, 25, 36]])\n",
            "torch.mul(A, B): \n",
            " tensor([[ 1,  4,  9],\n",
            "        [16, 25, 36]])\n",
            "A / B: \n",
            " tensor([[1., 1., 1.],\n",
            "        [1., 1., 1.]])\n",
            "torch.div(A, B): \n",
            " tensor([[1., 1., 1.],\n",
            "        [1., 1., 1.]])\n",
            "Transpose of A: \n",
            " tensor([[1, 4],\n",
            "        [2, 5],\n",
            "        [3, 6]])\n",
            "torch.transpose(A, 0, 1): \n",
            " tensor([[1, 4],\n",
            "        [2, 5],\n",
            "        [3, 6]])\n",
            "A @ B.T: \n",
            " tensor([[14, 32],\n",
            "        [32, 77]])\n",
            "torch.matmul(A, B.T): \n",
            " tensor([[14, 32],\n",
            "        [32, 77]])\n"
          ]
        }
      ],
      "source": [
        "# Create two random tensors\n",
        "A = torch.tensor([[1, 2, 3], [4, 5, 6]])\n",
        "B = A.clone() # Modifiying the clone does not affect the original tensor\n",
        "\n",
        "A_shape = A.shape # A Size object containing tensor dimentions' sizes\n",
        "\n",
        "# Addition\n",
        "C = A + B\n",
        "C_torch = torch.add(A, B)\n",
        "\n",
        "# Subtraction\n",
        "D = A - B\n",
        "D_torch = torch.sub(A, B)\n",
        "\n",
        "# Multiplication (element-wise)\n",
        "E = A * B\n",
        "E_torch = torch.mul(A, B)\n",
        "\n",
        "# Division (element-wise)\n",
        "F = A / B\n",
        "F_torch = torch.div(A, B)\n",
        "\n",
        "# Transpose\n",
        "G = A.T\n",
        "G_torch = torch.transpose(A, 0, 1)\n",
        "\n",
        "# Matrix multiplication\n",
        "H = A @ B.T\n",
        "H_torch = torch.matmul(A, B.T)\n",
        "\n",
        "# Print results\n",
        "print(\"A: \\n\", A)\n",
        "print(\"B: \\n\", B)\n",
        "print(\"A.shape: \\n\", A_shape)\n",
        "print(\"A + B: \\n\", C)\n",
        "print(\"torch.add(A, B): \\n\", C_torch)\n",
        "print(\"A - B: \\n\", D)\n",
        "print(\"torch.sub(A, B): \\n\", D_torch)\n",
        "print(\"A * B: \\n\", E)\n",
        "print(\"torch.mul(A, B): \\n\", E_torch)\n",
        "print(\"A / B: \\n\", F)\n",
        "print(\"torch.div(A, B): \\n\", F_torch)\n",
        "print(\"Transpose of A: \\n\", G)\n",
        "print(\"torch.transpose(A, 0, 1): \\n\", G_torch)\n",
        "print(\"A @ B.T: \\n\", H)\n",
        "print(\"torch.matmul(A, B.T): \\n\", H_torch)"
      ]
    },
    {
      "cell_type": "markdown",
      "metadata": {
        "id": "-Pz2km8FJcuT"
      },
      "source": [
        "<font color=\"yellow\">Quiz: Considering tensor A and B, implement the following formula: </font>\n",
        "<br>$((A+B)(A-B)^T)/I$\n",
        "<br>$A=\\begin{bmatrix} 1 & 2 & 3 \\\\ 4 & 5 & 6 \\end{bmatrix}$\n",
        "<br>$B=\\begin{bmatrix} 2 & 3 & 4 \\\\ 5 & 6 & 7 \\end{bmatrix}$"
      ]
    },
    {
      "cell_type": "code",
      "execution_count": 53,
      "metadata": {
        "colab": {
          "base_uri": "https://localhost:8080/"
        },
        "id": "xGpAUQYJJcuT",
        "outputId": "70a4b0f6-1a5f-42e7-e869-d54dd49affe9"
      },
      "outputs": [
        {
          "output_type": "stream",
          "name": "stdout",
          "text": [
            "tensor([[1., 2., 3.],\n",
            "        [4., 5., 6.]])\n",
            "tensor([[2., 3., 4.],\n",
            "        [5., 6., 7.]])\n",
            "tensor([[-15., -inf],\n",
            "        [-inf, -33.]])\n"
          ]
        }
      ],
      "source": [
        "import torch\n",
        "\n",
        "# Create two tensors A and B\n",
        "A = torch.tensor([[1, 2, 3],[4, 5, 6]], dtype=torch.float32)\n",
        "B = torch.tensor([[2, 3, 4],[5, 6, 7]], dtype=torch.float32)\n",
        "print(A)\n",
        "print(B)\n",
        "\n",
        "# consider I as Identity matrix so = torch.eye(2)\n",
        "# Perform the calculation\n",
        "result = torch.div(torch.matmul(torch.add(A, B), torch.transpose(torch.sub(A, B), 0, 1)), torch.eye(2))\n",
        "\n",
        "# Print the result\n",
        "print(result)"
      ]
    },
    {
      "cell_type": "markdown",
      "metadata": {
        "id": "7wKqP85rrF-P"
      },
      "source": [
        "**Reshaping** tensors can be used to make batch operations easier (more on that later), but be careful that the data is reshaped in the order you expect:"
      ]
    },
    {
      "cell_type": "code",
      "execution_count": 54,
      "metadata": {
        "colab": {
          "base_uri": "https://localhost:8080/"
        },
        "id": "HmUcqHYUrMu1",
        "outputId": "aab71baf-32e2-4553-9ba2-a381889a2239"
      },
      "outputs": [
        {
          "output_type": "stream",
          "name": "stdout",
          "text": [
            "The shape is currently torch.Size([15])\n",
            "The contents are currently tensor([ 1,  2,  3,  4,  5,  6,  7,  8,  9, 10, 11, 12, 13, 14, 15])\n",
            "\n",
            "After reshaping, the shape is currently torch.Size([5, 3])\n",
            "The contents are currently tensor([[ 1,  2,  3],\n",
            "        [ 4,  5,  6],\n",
            "        [ 7,  8,  9],\n",
            "        [10, 11, 12],\n",
            "        [13, 14, 15]])\n",
            "\n",
            "Changing the first value of rr will change the corresponding value in rr2\n",
            "tensor([100,   2,   3,   4,   5,   6,   7,   8,   9,  10,  11,  12,  13,  14,\n",
            "         15])\n",
            "tensor([[100,   2,   3],\n",
            "        [  4,   5,   6],\n",
            "        [  7,   8,   9],\n",
            "        [ 10,  11,  12],\n",
            "        [ 13,  14,  15]])\n"
          ]
        }
      ],
      "source": [
        "rr = torch.arange(1, 16)\n",
        "print(\"The shape is currently\", rr.shape)\n",
        "print(\"The contents are currently\", rr)\n",
        "print()\n",
        "rr2 = rr.view(5, 3) # view is not a clone, it uses the same shared data\n",
        "print(\"After reshaping, the shape is currently\", rr2.shape)\n",
        "print(\"The contents are currently\", rr2)\n",
        "print()\n",
        "print('Changing the first value of rr will change the corresponding value in rr2')\n",
        "rr[0] = 100\n",
        "print(rr)\n",
        "print(rr2)\n",
        "\n",
        "# what about reshape?\n",
        "# read: https://stackoverflow.com/questions/49643225/whats-the-difference-between-reshape-and-view-in-pytorch"
      ]
    },
    {
      "cell_type": "markdown",
      "metadata": {
        "id": "GaykBuhoou3M"
      },
      "source": [
        "Finally, you can also inter-convert tensors with **NumPy arrays**:"
      ]
    },
    {
      "cell_type": "code",
      "execution_count": 55,
      "metadata": {
        "colab": {
          "base_uri": "https://localhost:8080/"
        },
        "id": "ppYiPnlko1Ci",
        "outputId": "eb35a249-ce03-48fc-b0bd-0c1090282fc8"
      },
      "outputs": [
        {
          "output_type": "stream",
          "name": "stdout",
          "text": [
            "This is a torch.tensor tensor([[1, 0, 5]])\n",
            "This is a np.ndarray [[1 0 5]]\n"
          ]
        }
      ],
      "source": [
        "import numpy as np\n",
        "\n",
        "# numpy.ndarray --> torch.Tensor: [feed ndarray to torch.tensor]\n",
        "arr = np.array([[1, 0, 5]])\n",
        "data = torch.tensor(arr)\n",
        "print(\"This is a torch.tensor\", data)\n",
        "\n",
        "# torch.Tensor --> numpy.ndarray: [use .numpy() on tensor]\n",
        "new_arr = data.numpy()\n",
        "print(\"This is a np.ndarray\", new_arr)"
      ]
    },
    {
      "cell_type": "markdown",
      "metadata": {
        "id": "hyv1l431q9yA"
      },
      "source": [
        "## Vectorization\n",
        "One of the reasons why we use **tensors** is *vectorized operations*: operations that be conducted in parallel over a particular dimension of a tensor."
      ]
    },
    {
      "cell_type": "code",
      "execution_count": 56,
      "metadata": {
        "colab": {
          "base_uri": "https://localhost:8080/"
        },
        "id": "Kas2MEFDsJWk",
        "outputId": "66e3ec2f-578f-4bca-a522-26399f174b7f"
      },
      "outputs": [
        {
          "output_type": "stream",
          "name": "stdout",
          "text": [
            "Data is: tensor([[ 1.,  2.,  3.,  4.,  5.,  6.,  7.],\n",
            "        [ 8.,  9., 10., 11., 12., 13., 14.],\n",
            "        [15., 16., 17., 18., 19., 20., 21.],\n",
            "        [22., 23., 24., 25., 26., 27., 28.],\n",
            "        [29., 30., 31., 32., 33., 34., 35.]])\n",
            "Row sum:\n",
            "tensor([ 75.,  80.,  85.,  90.,  95., 100., 105.])\n",
            "Col sum:\n",
            "tensor([ 28.,  77., 126., 175., 224.])\n",
            "Col std:\n",
            "tensor([2.1602, 2.1602, 2.1602, 2.1602, 2.1602])\n"
          ]
        }
      ],
      "source": [
        "data = torch.arange(1, 36, dtype=torch.float32).reshape(5, 7)\n",
        "print(\"Data is:\", data)\n",
        "\n",
        "# We can perform operations like *sum* over each row...\n",
        "print(\"Row sum:\")\n",
        "print(data.sum(dim=0))\n",
        "\n",
        "# or over each column.\n",
        "print(\"Col sum:\")\n",
        "print(data.sum(dim=1))\n",
        "\n",
        "# Other operations are available:\n",
        "print(\"Col std:\")\n",
        "print(data.std(dim=1))\n"
      ]
    },
    {
      "cell_type": "markdown",
      "metadata": {
        "id": "BGRreztsJcuV"
      },
      "source": [
        "**Without specifying dimentions, it just sum all the values**"
      ]
    },
    {
      "cell_type": "code",
      "execution_count": 57,
      "metadata": {
        "colab": {
          "base_uri": "https://localhost:8080/"
        },
        "id": "NPRy-xtuk2tK",
        "outputId": "d11e737c-0970-4284-ed54-bdfd23389131"
      },
      "outputs": [
        {
          "output_type": "execute_result",
          "data": {
            "text/plain": [
              "tensor(630.)"
            ]
          },
          "metadata": {},
          "execution_count": 57
        }
      ],
      "source": [
        "data.sum()"
      ]
    },
    {
      "cell_type": "markdown",
      "metadata": {
        "id": "IJ8MjWEMxOVk"
      },
      "source": [
        "\n",
        "\n",
        "<font color=\"yellow\">Quiz: Write code that creates a `torch.tensor` with the following contents:\n",
        "$\\begin{bmatrix} 1 & 2.2 & 9.6 \\\\ 4 & -7.2 & 6.3 \\end{bmatrix}$\n",
        "\n",
        "Normalize the values in the tensor using Z-Score normalization. (Help: https://en.wikipedia.org/wiki/Standard_score)</font>\n",
        "\n"
      ]
    },
    {
      "cell_type": "code",
      "execution_count": 58,
      "metadata": {
        "id": "BK0YInGkn3Xy",
        "colab": {
          "base_uri": "https://localhost:8080/"
        },
        "outputId": "2b99d59b-59a6-4fb8-b93b-c20635256d08"
      },
      "outputs": [
        {
          "output_type": "stream",
          "name": "stdout",
          "text": [
            "tensor([[ 1.0000,  2.2000,  9.6000],\n",
            "        [ 4.0000, -7.2000,  6.3000]])\n",
            "tensor([[-0.7071,  0.7071,  0.7071],\n",
            "        [ 0.7071, -0.7071, -0.7071]])\n"
          ]
        }
      ],
      "source": [
        "tens = torch.tensor([[1, 2.2, 9.6],[4, -7.2, 6.3]], dtype=torch.float32)\n",
        "print(tens)\n",
        "\n",
        "tens_normalized = (tens - torch.mean(tens, dim=0)) / torch.std(tens, dim=0)\n",
        "print(tens_normalized)"
      ]
    },
    {
      "cell_type": "markdown",
      "metadata": {
        "id": "V7BMktFFAkRA"
      },
      "source": [
        "## Indexing & Slicing\n",
        "\n",
        "You can access arbitrary elements of a tensor using the `[]` operator."
      ]
    },
    {
      "cell_type": "code",
      "execution_count": 59,
      "metadata": {
        "colab": {
          "base_uri": "https://localhost:8080/"
        },
        "id": "vvkHJ2pYmgMD",
        "outputId": "9a744fbf-e3b5-40b2-e40e-a4bdf6ba2abb"
      },
      "outputs": [
        {
          "output_type": "stream",
          "name": "stdout",
          "text": [
            "tensor([[ 1,  2,  3],\n",
            "        [ 4,  5,  6],\n",
            "        [ 7,  8,  9],\n",
            "        [10, 11, 12],\n",
            "        [13, 14, 15]])\n"
          ]
        }
      ],
      "source": [
        "matr = torch.arange(1, 16).view(5, 3)\n",
        "print(matr)"
      ]
    },
    {
      "cell_type": "code",
      "execution_count": 60,
      "metadata": {
        "id": "LXfgmuplmpmg",
        "colab": {
          "base_uri": "https://localhost:8080/"
        },
        "outputId": "a5b4d7b5-7dbe-4a57-c26d-d09faa2fa797"
      },
      "outputs": [
        {
          "output_type": "execute_result",
          "data": {
            "text/plain": [
              "tensor([1, 2, 3])"
            ]
          },
          "metadata": {},
          "execution_count": 60
        }
      ],
      "source": [
        "matr[0] # first row"
      ]
    },
    {
      "cell_type": "code",
      "execution_count": 61,
      "metadata": {
        "colab": {
          "base_uri": "https://localhost:8080/"
        },
        "id": "rw_qQ9ponJV2",
        "outputId": "fec3c3a1-132c-4108-c7f8-96890e1dfc90"
      },
      "outputs": [
        {
          "output_type": "execute_result",
          "data": {
            "text/plain": [
              "tensor([1, 2, 3])"
            ]
          },
          "metadata": {},
          "execution_count": 61
        }
      ],
      "source": [
        "matr[0, :] # first row"
      ]
    },
    {
      "cell_type": "code",
      "execution_count": 62,
      "metadata": {
        "colab": {
          "base_uri": "https://localhost:8080/"
        },
        "id": "Yw2H2WOcmuyz",
        "outputId": "88f114ba-8576-4e6f-a981-5407ba3ececd"
      },
      "outputs": [
        {
          "output_type": "execute_result",
          "data": {
            "text/plain": [
              "tensor([ 1,  4,  7, 10, 13])"
            ]
          },
          "metadata": {},
          "execution_count": 62
        }
      ],
      "source": [
        "matr[:, 0] # first col"
      ]
    },
    {
      "cell_type": "code",
      "execution_count": 63,
      "metadata": {
        "colab": {
          "base_uri": "https://localhost:8080/"
        },
        "id": "q9f0q9ZFmysw",
        "outputId": "a17cbcab-4a98-4579-8a8e-a9e198a11141"
      },
      "outputs": [
        {
          "output_type": "execute_result",
          "data": {
            "text/plain": [
              "tensor([[1, 2, 3],\n",
              "        [4, 5, 6],\n",
              "        [7, 8, 9]])"
            ]
          },
          "metadata": {},
          "execution_count": 63
        }
      ],
      "source": [
        "matr[0:3] # 3 by 3 from top left"
      ]
    },
    {
      "cell_type": "code",
      "execution_count": 64,
      "metadata": {
        "colab": {
          "base_uri": "https://localhost:8080/"
        },
        "id": "Ucc2UqRVm08h",
        "outputId": "8367fe94-8574-4c8a-ec8c-2601c11eb25b"
      },
      "outputs": [
        {
          "output_type": "execute_result",
          "data": {
            "text/plain": [
              "tensor([[ 1,  2],\n",
              "        [ 4,  5],\n",
              "        [ 7,  8],\n",
              "        [10, 11],\n",
              "        [13, 14]])"
            ]
          },
          "metadata": {},
          "execution_count": 64
        }
      ],
      "source": [
        "matr[:, 0:2] # first two cols"
      ]
    },
    {
      "cell_type": "code",
      "execution_count": 65,
      "metadata": {
        "colab": {
          "base_uri": "https://localhost:8080/"
        },
        "id": "AEkhpZiRm24y",
        "outputId": "2f9b5afe-3ea6-49f6-8d44-420e229293d5"
      },
      "outputs": [
        {
          "output_type": "execute_result",
          "data": {
            "text/plain": [
              "tensor([[1, 2],\n",
              "        [4, 5],\n",
              "        [7, 8]])"
            ]
          },
          "metadata": {},
          "execution_count": 65
        }
      ],
      "source": [
        "matr[0:3, 0:2] # frist three rows of the first two cols"
      ]
    },
    {
      "cell_type": "markdown",
      "metadata": {
        "id": "LHtpOdS5JcuX"
      },
      "source": [
        "<font color=\"yellow\">Quiz: It look likes they are doing the same thing? Can you give an example that matr[i][j] wouldn't be the same as matr[i,j]?</font>\n",
        "<br>hint: You may consider i and/or j as slices not indices."
      ]
    },
    {
      "cell_type": "code",
      "execution_count": 66,
      "metadata": {
        "colab": {
          "base_uri": "https://localhost:8080/"
        },
        "id": "kN7oaYPdm-zC",
        "outputId": "727c71e5-e42f-4506-ebbd-71bdeb908133"
      },
      "outputs": [
        {
          "output_type": "stream",
          "name": "stdout",
          "text": [
            "tensor(3)\n",
            "tensor(3)\n"
          ]
        }
      ],
      "source": [
        "print(matr[0][2])\n",
        "print(matr[0,2])"
      ]
    },
    {
      "cell_type": "code",
      "execution_count": 67,
      "metadata": {
        "colab": {
          "base_uri": "https://localhost:8080/"
        },
        "id": "EdYiUYpx_bVu",
        "outputId": "b4306f0f-864a-4d25-d623-f9aef4dbdf39"
      },
      "outputs": [
        {
          "output_type": "stream",
          "name": "stdout",
          "text": [
            "tensor([[ 6],\n",
            "        [ 9],\n",
            "        [12],\n",
            "        [15]])\n",
            "tensor([[10, 11, 12],\n",
            "        [13, 14, 15]])\n"
          ]
        }
      ],
      "source": [
        "print(matr[1:, 2:])  # elements from row 1 onwards and column 2 onwards\n",
        "print(matr[1:][2:])  # rows from index 1 onwards, then rows from index 2 onwards"
      ]
    },
    {
      "cell_type": "markdown",
      "metadata": {
        "id": "SoOkN7OiJcuX"
      },
      "source": [
        "Accessing python scalar value in a tensor"
      ]
    },
    {
      "cell_type": "code",
      "execution_count": 68,
      "metadata": {
        "colab": {
          "base_uri": "https://localhost:8080/"
        },
        "id": "BM-ZujN2IGaQ",
        "outputId": "15d4f58c-2abd-4178-d5c0-c6a260978e1e"
      },
      "outputs": [
        {
          "output_type": "execute_result",
          "data": {
            "text/plain": [
              "tensor(1)"
            ]
          },
          "metadata": {},
          "execution_count": 68
        }
      ],
      "source": [
        "matr[0, 0]"
      ]
    },
    {
      "cell_type": "code",
      "execution_count": 69,
      "metadata": {
        "colab": {
          "base_uri": "https://localhost:8080/"
        },
        "id": "6NwxK7d_Ycgs",
        "outputId": "4208b711-8f6a-471a-8dc2-8aa50d37bb01"
      },
      "outputs": [
        {
          "output_type": "execute_result",
          "data": {
            "text/plain": [
              "1"
            ]
          },
          "metadata": {},
          "execution_count": 69
        }
      ],
      "source": [
        "matr[0, 0].item()"
      ]
    },
    {
      "cell_type": "markdown",
      "metadata": {
        "id": "Re8xiL37eAja"
      },
      "source": [
        "## Autograd\n",
        "Pytorch is well-known for its automatic differentiation feature. We can call the `backward()` method to ask `PyTorch` to calculate the gradients, which are then stored in the `grad` attribute."
      ]
    },
    {
      "cell_type": "code",
      "execution_count": 70,
      "metadata": {
        "colab": {
          "base_uri": "https://localhost:8080/"
        },
        "id": "-oEvBJHWfn8H",
        "outputId": "13ea2dcd-fa79-447b-eaf0-5f86a939a185"
      },
      "outputs": [
        {
          "output_type": "stream",
          "name": "stdout",
          "text": [
            "None\n"
          ]
        }
      ],
      "source": [
        "# Create an example tensor\n",
        "# requires_grad parameter tells PyTorch to store gradients\n",
        "x = torch.tensor([2.], requires_grad=True)\n",
        "\n",
        "# Print the gradient if it is calculated\n",
        "# Currently None since x is a scalar\n",
        "print(x.grad)"
      ]
    },
    {
      "cell_type": "code",
      "execution_count": 71,
      "metadata": {
        "colab": {
          "base_uri": "https://localhost:8080/"
        },
        "id": "DTJazZXkgthP",
        "outputId": "739b82a1-d0e7-47c3-922a-588a5c36ae17"
      },
      "outputs": [
        {
          "output_type": "stream",
          "name": "stdout",
          "text": [
            "tensor([12.])\n"
          ]
        }
      ],
      "source": [
        "# Calculating the gradient of y with respect to x\n",
        "y = x * x * 3 # 3x^2\n",
        "y.backward()\n",
        "print(x.grad) # d(y)/d(x) = d(3x^2)/d(x) = 6x = 12"
      ]
    },
    {
      "cell_type": "markdown",
      "metadata": {
        "id": "3Hqc2oM3iV6a"
      },
      "source": [
        "Let's run backprop from a different tensor again to see what happens."
      ]
    },
    {
      "cell_type": "code",
      "execution_count": 72,
      "metadata": {
        "colab": {
          "base_uri": "https://localhost:8080/"
        },
        "id": "K--Az0Xiic_z",
        "outputId": "940ab428-4c4e-4ec8-889d-4b05de01a461"
      },
      "outputs": [
        {
          "output_type": "stream",
          "name": "stdout",
          "text": [
            "tensor([24.])\n"
          ]
        }
      ],
      "source": [
        "z = x * x * 3 # 3x^2\n",
        "z.backward()\n",
        "print(x.grad)"
      ]
    },
    {
      "cell_type": "markdown",
      "metadata": {
        "id": "HhjPkiE6i7ja"
      },
      "source": [
        "We can see that the `x.grad` is updated to be the sum of the gradients calculated so far. When we run backprop in a neural network, we sum up all the gradients for a particular neuron before making an update. This is exactly what is happening here! This is also the reason why we need to run `zero_grad()` in every training iteration (more on this later). Otherwise our gradients would keep building up from one training iteration to the other, which would cause our updates to be wrong."
      ]
    },
    {
      "cell_type": "code",
      "execution_count": 73,
      "metadata": {
        "colab": {
          "base_uri": "https://localhost:8080/"
        },
        "id": "fU6ceW-wJcuk",
        "outputId": "ba680de3-3c00-496b-aa9a-edd262aa2cd2"
      },
      "outputs": [
        {
          "output_type": "stream",
          "name": "stdout",
          "text": [
            "tensor([24.])\n",
            "tensor([0.])\n"
          ]
        }
      ],
      "source": [
        "# let's have a look at a bit more sophisticated example:\n",
        "# clearing cumulative grads\n",
        "print(x.grad)\n",
        "x.grad.zero_()\n",
        "print(x.grad)"
      ]
    },
    {
      "cell_type": "code",
      "execution_count": 74,
      "metadata": {
        "colab": {
          "base_uri": "https://localhost:8080/"
        },
        "id": "d68tSXeiJcuk",
        "outputId": "5fb48178-d3c6-4fc5-ed07-e17be230c1c2"
      },
      "outputs": [
        {
          "output_type": "execute_result",
          "data": {
            "text/plain": [
              "tensor(3., requires_grad=True)"
            ]
          },
          "metadata": {},
          "execution_count": 74
        }
      ],
      "source": [
        "y = torch.tensor(3., requires_grad=True)\n",
        "y"
      ]
    },
    {
      "cell_type": "code",
      "execution_count": 75,
      "metadata": {
        "colab": {
          "base_uri": "https://localhost:8080/"
        },
        "id": "Z7F2cdxuJcuk",
        "outputId": "252ca30d-e0d5-4742-bc3b-a9033976ae57"
      },
      "outputs": [
        {
          "output_type": "stream",
          "name": "stdout",
          "text": [
            "tensor([2.], requires_grad=True)\n",
            "tensor([30.])\n",
            "\n",
            "tensor(3., requires_grad=True)\n",
            "tensor(20.)\n"
          ]
        }
      ],
      "source": [
        "f = y * x * 10\n",
        "f.backward()\n",
        "print(x)\n",
        "print(x.grad)\n",
        "print()\n",
        "print(y)\n",
        "print(y.grad)"
      ]
    },
    {
      "cell_type": "code",
      "execution_count": 76,
      "metadata": {
        "colab": {
          "base_uri": "https://localhost:8080/"
        },
        "id": "yL3Q8y-ZJcuk",
        "outputId": "3bf7d545-245d-448a-e608-c4e13c4c4b90"
      },
      "outputs": [
        {
          "output_type": "stream",
          "name": "stdout",
          "text": [
            "tensor([2.], requires_grad=True)\n",
            "tensor([30.])\n"
          ]
        }
      ],
      "source": [
        "x.grad.zero_()\n",
        "f = 3 * x\n",
        "g = 10 * f\n",
        "g.backward()\n",
        "\n",
        "print(x)\n",
        "print(x.grad)"
      ]
    },
    {
      "cell_type": "markdown",
      "metadata": {
        "id": "7tcrK2mtJcul"
      },
      "source": [
        "To read more about auto grad:\n",
        "1) https://pytorch.org/blog/computational-graphs-constructed-in-pytorch/\n",
        "2) https://pytorch.org/tutorials/beginner/introyt/autogradyt_tutorial.html"
      ]
    },
    {
      "cell_type": "markdown",
      "metadata": {
        "id": "URssDpggJcul"
      },
      "source": [
        "<font color=\"yellow\">Quiz: Draw the following functions with matplotlib.</font>\n",
        "<br>$x \\epsilon [-3, 3]$\n",
        "1. $f(x) = \\frac{1}{\\sqrt{2\\pi} e^{\\frac{x+1}{2}}}$\n",
        "2. $\\frac{\\partial }{\\partial x} f(x)$"
      ]
    },
    {
      "cell_type": "code",
      "execution_count": 77,
      "metadata": {
        "colab": {
          "base_uri": "https://localhost:8080/",
          "height": 507
        },
        "id": "SO3FwZGGJcul",
        "outputId": "3c4c62cf-a38a-479c-9fd4-204e6e0abb2b"
      },
      "outputs": [
        {
          "output_type": "display_data",
          "data": {
            "text/plain": [
              "<Figure size 1000x500 with 2 Axes>"
            ],
            "image/png": "[encoded data removed]"
          },
          "metadata": {}
        }
      ],
      "source": [
        "import matplotlib.pyplot as plt\n",
        "\n",
        "def f(x):\n",
        "    return 1 / (torch.sqrt(2 * torch.tensor(3.14159)) * torch.exp((x + 1) / 2))\n",
        "\n",
        "x = torch.linspace(-3, 3, 100, requires_grad=True)\n",
        "y = f(x)\n",
        "y.backward(torch.ones_like(x))\n",
        "\n",
        "\n",
        "\n",
        "# Plot f(x)\n",
        "plt.figure(figsize=(10, 5))\n",
        "plt.subplot(2, 1, 1)\n",
        "plt.plot(x.detach().numpy(), y.detach().numpy(), label='f(x)')\n",
        "plt.title('Function f(x)')\n",
        "plt.xlabel('x')\n",
        "plt.ylabel('f(x)')\n",
        "plt.grid(True)\n",
        "plt.legend()\n",
        "\n",
        "# Plot the derivative of f(x) with respect to x\n",
        "plt.subplot(2, 1, 2)\n",
        "plt.plot(x.detach().numpy(), x.grad.detach().numpy(), label='df(x)/dx', color='orange')\n",
        "plt.title('Derivative of f(x) with respect to x')\n",
        "plt.xlabel('x')\n",
        "plt.ylabel('df(x)/dx')\n",
        "plt.grid(True)\n",
        "plt.legend()\n",
        "\n",
        "plt.tight_layout()\n",
        "plt.show()"
      ]
    },
    {
      "cell_type": "code",
      "source": [],
      "metadata": {
        "id": "EVlYe-5uwsHp"
      },
      "execution_count": 77,
      "outputs": []
    }
  ],
  "metadata": {
    "colab": {
      "provenance": [],
      "collapsed_sections": [
        "4gk1UKaNvrMv"
      ]
    },
    "kernelspec": {
      "display_name": "Python 3",
      "name": "python3"
    },
    "language_info": {
      "codemirror_mode": {
        "name": "ipython",
        "version": 3
      },
      "file_extension": ".py",
      "mimetype": "text/x-python",
      "name": "python",
      "nbconvert_exporter": "python",
      "pygments_lexer": "ipython3",
      "version": "3.10.12"
    }
  },
  "nbformat": 4,
  "nbformat_minor": 0
}