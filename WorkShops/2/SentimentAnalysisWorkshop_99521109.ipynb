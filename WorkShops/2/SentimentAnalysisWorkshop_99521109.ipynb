{
  "cells": [
    {
      "cell_type": "markdown",
      "metadata": {
        "id": "jY4bE9_OqCer"
      },
      "source": [
        "# Simple Sentiment Analyser"
      ]
    },
    {
      "cell_type": "code",
      "execution_count": 5,
      "metadata": {
        "id": "SAU04IeenwBt"
      },
      "outputs": [],
      "source": [
        "import numpy as np\n",
        "from sklearn.model_selection import train_test_split\n",
        "from sklearn.decomposition import TruncatedSVD\n",
        "from sklearn.feature_extraction.text import CountVectorizer\n",
        "from sklearn.pipeline import make_pipeline\n",
        "from sklearn.svm import SVC\n",
        "from sklearn.metrics import accuracy_score\n",
        "from nltk.corpus import movie_reviews\n",
        "from tqdm import tqdm\n",
        "import nltk\n",
        "import spacy"
      ]
    },
    {
      "cell_type": "code",
      "execution_count": 6,
      "metadata": {
        "colab": {
          "base_uri": "https://localhost:8080/"
        },
        "id": "P5g23Inwnzec",
        "outputId": "7392a161-12d5-4890-9ba3-043fa9202029"
      },
      "outputs": [
        {
          "name": "stderr",
          "output_type": "stream",
          "text": [
            "[nltk_data] Downloading package movie_reviews to /root/nltk_data...\n",
            "[nltk_data]   Unzipping corpora/movie_reviews.zip.\n"
          ]
        }
      ],
      "source": [
        "nltk.download('movie_reviews')\n",
        "\n",
        "# Load spaCy English model\n",
        "nlp = spacy.load(\"en_core_web_sm\")\n",
        "\n",
        "# Load IMDB Movie Reviews dataset from NLTK\n",
        "movie_reviews_data = [(movie_reviews.raw(fileid), category) for category in movie_reviews.categories() for fileid in movie_reviews.fileids(category)]\n",
        "\n",
        "# Extract texts and labels\n",
        "texts, labels = zip(*movie_reviews_data)\n",
        "\n",
        "# Convert labels to binary (0 for negative, 1 for positive)\n",
        "labels = [0 if label == 'neg' else 1 for label in labels]\n",
        "\n",
        "# Split the dataset into training and testing sets\n",
        "X_train, X_test, y_train, y_test = train_test_split(texts, labels, test_size=0.2, random_state=42)"
      ]
    },
    {
      "cell_type": "code",
      "execution_count": 7,
      "metadata": {
        "colab": {
          "base_uri": "https://localhost:8080/"
        },
        "id": "O-TII6_Xmhre",
        "outputId": "a0316979-7221-4336-d20f-7251f0e288d7"
      },
      "outputs": [
        {
          "name": "stderr",
          "output_type": "stream",
          "text": [
            "100%|██████████| 1600/1600 [03:02<00:00,  8.75it/s]\n",
            "100%|██████████| 400/400 [00:43<00:00,  9.29it/s]\n"
          ]
        }
      ],
      "source": [
        "# Function to calculate document embeddings using spaCy\n",
        "def calculate_embeddings(texts):\n",
        "    embeddings = []\n",
        "    for text in tqdm(texts):\n",
        "        doc = nlp(text) # tokenizes the text to produce a Doc object\n",
        "        # Average word vectors to get document vector\n",
        "        doc_vector = np.mean([token.vector for token in doc if token.has_vector], axis=0) # This is done by extracting the vector of each token in the document if the token has a vector\n",
        "        embeddings.append(doc_vector)\n",
        "    return np.array(embeddings)\n",
        "\n",
        "# Calculate embeddings for training and testing sets\n",
        "X_train_embeddings = calculate_embeddings(X_train)\n",
        "X_test_embeddings = calculate_embeddings(X_test)"
      ]
    },
    {
      "cell_type": "code",
      "execution_count": 8,
      "metadata": {
        "colab": {
          "base_uri": "https://localhost:8080/"
        },
        "id": "KJtzWBY4n3Xv",
        "outputId": "ab77d9dd-edbc-4341-80b1-4bd59b5f185e"
      },
      "outputs": [
        {
          "name": "stdout",
          "output_type": "stream",
          "text": [
            "Accuracy for n_components=10: 0.64375\n",
            "Accuracy for n_components=20: 0.65625\n",
            "Accuracy for n_components=30: 0.68125\n",
            "Accuracy for n_components=40: 0.678125\n",
            "Accuracy for n_components=50: 0.675\n",
            "Accuracy for n_components=60: 0.66875\n",
            "Accuracy for n_components=70: 0.68125\n",
            "Accuracy for n_components=80: 0.68125\n",
            "Accuracy for n_components=90: 0.678125\n",
            "Accuracy for n_components=95: 0.678125\n",
            "Best n_components: 30, Best Accuracy: 0.68125\n",
            "Accuracy: 0.6825\n"
          ]
        }
      ],
      "source": [
        "# Split a subset of the training set for tuning\n",
        "X_train_tune, X_val, y_train_tune, y_val = train_test_split(X_train_embeddings, y_train, test_size=0.2, random_state=42)\n",
        "\n",
        "# Define a range of values for n_components\n",
        "n_components_values = [10, 20, 30, 40, 50, 60, 70, 80, 90, 95]\n",
        "\n",
        "best_accuracy = 0\n",
        "best_n_components = None\n",
        "\n",
        "# Iterate over different values of n_components\n",
        "for n_components in n_components_values:\n",
        "    model = make_pipeline(TruncatedSVD(n_components=n_components), SVC())\n",
        "\n",
        "    # Fit the model on training subset\n",
        "    model.fit(X_train_tune, y_train_tune)\n",
        "\n",
        "    # Make predictions on validation set\n",
        "    predictions = model.predict(X_val)\n",
        "\n",
        "    # Evaluate the accuracy\n",
        "    accuracy = accuracy_score(y_val, predictions)\n",
        "\n",
        "    # Print the accuracy for this value of n_components\n",
        "    print(f\"Accuracy for n_components={n_components}: {accuracy}\")\n",
        "\n",
        "    # Update the best accuracy and best n_components if necessary\n",
        "    if accuracy > best_accuracy:\n",
        "        best_accuracy = accuracy\n",
        "        best_n_components = n_components\n",
        "\n",
        "# Print the best value found\n",
        "print(f\"Best n_components: {best_n_components}, Best Accuracy: {best_accuracy}\")\n",
        "\n",
        "model = make_pipeline(TruncatedSVD(n_components=best_n_components), SVC())\n",
        "\n",
        "# Fit the model on training data\n",
        "model.fit(X_train_embeddings, y_train)\n",
        "\n",
        "# Make predictions on test data\n",
        "predictions = model.predict(X_test_embeddings)\n",
        "\n",
        "# Evaluate the accuracy\n",
        "accuracy = accuracy_score(y_test, predictions)\n",
        "print(f\"Accuracy: {accuracy}\")"
      ]
    },
    {
      "cell_type": "markdown",
      "metadata": {
        "id": "p0KqRUkVqKea"
      },
      "source": [
        "#More accurate one"
      ]
    },
    {
      "cell_type": "code",
      "execution_count": null,
      "metadata": {
        "id": "jroFbuNrqNU0"
      },
      "outputs": [],
      "source": [
        "import numpy as np\n",
        "from sklearn.model_selection import train_test_split\n",
        "from sklearn.decomposition import TruncatedSVD\n",
        "from sklearn.pipeline import make_pipeline\n",
        "from sklearn.svm import SVC\n",
        "from sklearn.metrics import accuracy_score\n",
        "from nltk.corpus import movie_reviews\n",
        "from transformers import AutoTokenizer, AutoModel\n",
        "import torch"
      ]
    },
    {
      "cell_type": "code",
      "execution_count": null,
      "metadata": {
        "id": "FX3DNIONqn6Z"
      },
      "outputs": [],
      "source": [
        "# Load BERT tokenizer and model\n",
        "tokenizer = AutoTokenizer.from_pretrained(\"bert-base-uncased\")\n",
        "bert_model = AutoModel.from_pretrained(\"bert-base-uncased\")"
      ]
    },
    {
      "cell_type": "code",
      "execution_count": 11,
      "metadata": {
        "colab": {
          "base_uri": "https://localhost:8080/"
        },
        "id": "vElOSRMTqtHP",
        "outputId": "24373c97-b39e-4698-9e75-8f36bcdae5cd"
      },
      "outputs": [
        {
          "name": "stderr",
          "output_type": "stream",
          "text": [
            "100%|██████████| 1600/1600 [29:20<00:00,  1.10s/it]\n",
            "100%|██████████| 400/400 [07:15<00:00,  1.09s/it]\n"
          ]
        }
      ],
      "source": [
        "def calculate_embeddings(texts):\n",
        "    embeddings = []\n",
        "    for text in tqdm(texts):\n",
        "        # Tokenize the text\n",
        "        tokens = tokenizer(text, return_tensors=\"pt\", truncation=True, padding=True) # The tokenizer converts the text into a format suitable for the BERT model, returning tensors\n",
        "\n",
        "        # Get BERT model output\n",
        "        with torch.no_grad():\n",
        "            model_output = bert_model(**tokens) # processes the tokens and returns its output\n",
        "\n",
        "        # Use mean pooling to get sentence embeddings\n",
        "        # Mean pooling is a technique to aggregate token embeddings into a single sentence embedding by averaging them. It provides a fixed-size representation for variable-length input.\n",
        "        doc_vector = torch.mean(model_output.last_hidden_state, dim=1).squeeze().numpy()\n",
        "        embeddings.append(doc_vector)\n",
        "\n",
        "    return np.array(embeddings)\n",
        "\n",
        "\n",
        "# Calculate embeddings for training and testing sets\n",
        "X_train_embeddings = calculate_embeddings(X_train)\n",
        "X_test_embeddings = calculate_embeddings(X_test)"
      ]
    },
    {
      "cell_type": "code",
      "execution_count": 12,
      "metadata": {
        "colab": {
          "base_uri": "https://localhost:8080/"
        },
        "id": "Bl8uJ9nmq2vX",
        "outputId": "fa67d0e0-c03e-47b3-d1b6-e05d31d6ed47"
      },
      "outputs": [
        {
          "name": "stdout",
          "output_type": "stream",
          "text": [
            "Accuracy for n_components=10: 0.65625\n",
            "Accuracy for n_components=20: 0.7375\n",
            "Accuracy for n_components=30: 0.753125\n",
            "Accuracy for n_components=40: 0.78125\n",
            "Accuracy for n_components=50: 0.775\n",
            "Accuracy for n_components=60: 0.775\n",
            "Accuracy for n_components=70: 0.775\n",
            "Accuracy for n_components=80: 0.775\n",
            "Accuracy for n_components=90: 0.78125\n",
            "Accuracy for n_components=95: 0.784375\n",
            "Best n_components: 95, Best Accuracy: 0.784375\n",
            "Accuracy: 0.7975\n"
          ]
        }
      ],
      "source": [
        "# Split a subset of the training set for tuning\n",
        "X_train_tune, X_val, y_train_tune, y_val = train_test_split(X_train_embeddings, y_train, test_size=0.2, random_state=42)\n",
        "\n",
        "# Define a range of values for n_components\n",
        "n_components_values = [10, 20, 30, 40, 50, 60, 70, 80, 90, 95]\n",
        "\n",
        "best_accuracy = 0\n",
        "best_n_components = None\n",
        "\n",
        "# Iterate over different values of n_components\n",
        "for n_components in n_components_values:\n",
        "    model = make_pipeline(TruncatedSVD(n_components=n_components), SVC())\n",
        "\n",
        "    # Fit the model on training subset\n",
        "    model.fit(X_train_tune, y_train_tune)\n",
        "\n",
        "    # Make predictions on validation set\n",
        "    predictions = model.predict(X_val)\n",
        "\n",
        "    # Evaluate the accuracy\n",
        "    accuracy = accuracy_score(y_val, predictions)\n",
        "\n",
        "    # Print the accuracy for this value of n_components\n",
        "    print(f\"Accuracy for n_components={n_components}: {accuracy}\")\n",
        "\n",
        "    # Update the best accuracy and best n_components if necessary\n",
        "    if accuracy > best_accuracy:\n",
        "        best_accuracy = accuracy\n",
        "        best_n_components = n_components\n",
        "\n",
        "# Print the best value found\n",
        "print(f\"Best n_components: {best_n_components}, Best Accuracy: {best_accuracy}\")\n",
        "\n",
        "model = make_pipeline(TruncatedSVD(n_components=best_n_components), SVC())\n",
        "\n",
        "# Fit the model on training data\n",
        "model.fit(X_train_embeddings, y_train)\n",
        "\n",
        "# Make predictions on test data\n",
        "predictions = model.predict(X_test_embeddings)\n",
        "\n",
        "# Evaluate the accuracy\n",
        "accuracy = accuracy_score(y_test, predictions)\n",
        "print(f\"Accuracy: {accuracy}\")"
      ]
    }
  ],
  "metadata": {
    "accelerator": "GPU",
    "colab": {
      "gpuType": "T4",
      "provenance": []
    },
    "kernelspec": {
      "display_name": "Python 3",
      "name": "python3"
    },
    "language_info": {
      "name": "python"
    }
  },
  "nbformat": 4,
  "nbformat_minor": 0
}
