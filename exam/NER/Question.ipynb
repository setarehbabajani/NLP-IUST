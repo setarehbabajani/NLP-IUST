{
  "nbformat": 4,
  "nbformat_minor": 0,
  "metadata": {
    "colab": {
      "provenance": []
    },
    "kernelspec": {
      "name": "python3",
      "display_name": "Python 3"
    },
    "language_info": {
      "name": "python"
    }
  },
  "cells": [
    {
      "cell_type": "markdown",
      "source": [
        "# Viterbi Algorithm Implementation"
      ],
      "metadata": {
        "id": "-s3FBDjF_NjL"
      }
    },
    {
      "cell_type": "markdown",
      "source": [
        "The Viterbi algorithm is used to find the most probable sequence of hidden states (called the Viterbi path) that results in a sequence of observed events, especially in the context of Hidden Markov Models (HMMs). You are given a Hidden Markov Model with the following parameters:"
      ],
      "metadata": {
        "id": "bP9c6280_UNm"
      }
    },
    {
      "cell_type": "markdown",
      "source": [
        "1.   States: `Rainy`, `Sunny`\n",
        "2.   Observations: `Walk`, `Shop`, `Clean`\n",
        "3.   Start probabilities:\n",
        "*   `Rainy`: `0.6`\n",
        "*   `Sunny`: `0.4`\n",
        "4. Transition probabilities:\n",
        "* From `Rainy` to `Rainy`: 0.7\n",
        "* From `Rainy` to `Sunny`: 0.3\n",
        "* From `Sunny` to `Rainy`: 0.4\n",
        "* From `Sunny` to `Sunny`: 0.6\n",
        "5. Emission probabilities:\n",
        "* When `Rainy`: `Walk`: 0.1, `Shop`: 0.4, `Clean`: 0.5\n",
        "* When `Sunny`: `Walk`: 0.6, `Shop`: 0.3, `Clean`: 0.1"
      ],
      "metadata": {
        "id": "x7uvxtPz_XyL"
      }
    },
    {
      "cell_type": "markdown",
      "source": [
        "You need to implement the Viterbi algorithm to determine the most probable sequence of weather states for the following observation sequence: ['Walk', 'Shop', 'Clean']."
      ],
      "metadata": {
        "id": "0hODJ36nAkUa"
      }
    },
    {
      "cell_type": "code",
      "source": [
        "import numpy as np\n",
        "\n",
        "def viterbi(observations, states, start_prob, trans_prob, emit_prob):\n",
        "    \"\"\"\n",
        "    Perform the Viterbi algorithm to find the most probable sequence of hidden states.\n",
        "\n",
        "    Args:\n",
        "        observations (list): A list of observed events (e.g., ['Walk', 'Shop', 'Clean']).\n",
        "        states (list): A list of possible hidden states (e.g., ['Rainy', 'Sunny']).\n",
        "        start_prob (dict): A dictionary representing the start probability for each state (e.g., {'Rainy': 0.6, 'Sunny': 0.4}).\n",
        "        trans_prob (dict): A dictionary of dictionaries representing the transition probability from each state to every other state\n",
        "                           (e.g., {'Rainy': {'Rainy': 0.7, 'Sunny': 0.3}, 'Sunny': {'Rainy': 0.4, 'Sunny': 0.6}}).\n",
        "        emit_prob (dict): A dictionary of dictionaries representing the emission probability of each observation from each state\n",
        "                          (e.g., {'Rainy': {'Walk': 0.1, 'Shop': 0.4, 'Clean': 0.5}, 'Sunny': {'Walk': 0.6, 'Shop': 0.3, 'Clean': 0.1}}).\n",
        "\n",
        "    Returns:\n",
        "        tuple: The most probable sequence of hidden states and its probability.\n",
        "    \"\"\"\n",
        "    N = len(states)\n",
        "    T = len(observations)\n",
        "\n",
        "    # Map states and observations to indices\n",
        "    state_index = {state: idx for idx, state in enumerate(states)}\n",
        "    obs_index = {obs: idx for idx, obs in enumerate(emit_prob[states[0]].keys())}\n",
        "\n",
        "    # Initialize the Viterbi table and backpointer table\n",
        "    viterbi = np.zeros((N, T))\n",
        "    backpointer = np.zeros((N, T), dtype=int)\n",
        "\n",
        "    # Convert start_prob, trans_prob, and emit_prob to numpy arrays\n",
        "    start_prob = np.array([start_prob[state] for state in states])\n",
        "    trans_prob = np.array([[trans_prob[states[i]][states[j]] for j in range(N)] for i in range(N)])\n",
        "    emit_prob = np.array([[emit_prob[state][obs] for obs in observations] for state in states])\n",
        "\n",
        "    # Initialization step\n",
        "    ''' Your Code Here '''\n",
        "    viterbi[:, 0] = start_prob * emit_prob[:, obs_index[observations[0]]]\n",
        "\n",
        "    # Recursion step\n",
        "    for t in range(1, T):\n",
        "        for s in range(N):\n",
        "            ''' Your Code Here '''\n",
        "            prob = viterbi[:, t-1] * trans_prob[:, s] * emit_prob[s, obs_index[observations[t]]]\n",
        "            viterbi[s, t] = np.max(prob)\n",
        "            backpointer[s, t] = np.argmax(prob)\n",
        "\n",
        "\n",
        "    # Termination step\n",
        "    ''' Your Code Here '''\n",
        "    bestpathprob = np.max(viterbi[:, T-1])\n",
        "    best_path_p = np.argmax(viterbi[:, T-1])\n",
        "\n",
        "    # Path backtracking\n",
        "    ''' Your Code Here '''\n",
        "    bestpath = [best_path_p]\n",
        "    for i in range(T-1, 0, -1):\n",
        "      best_path_p = backpointer[best_path_p, t]\n",
        "      bestpath.insert(0, best_path_p)\n",
        "    bestpath = [states[i] for i in bestpath]\n",
        "\n",
        "    return bestpath, bestpathprob"
      ],
      "metadata": {
        "id": "9PnKqneF_XaG"
      },
      "execution_count": 1,
      "outputs": []
    },
    {
      "cell_type": "code",
      "execution_count": 2,
      "metadata": {
        "id": "PbRWb9e8_HXo",
        "colab": {
          "base_uri": "https://localhost:8080/"
        },
        "outputId": "bcb87e59-a2c8-4527-fa9b-048117abfcc2"
      },
      "outputs": [
        {
          "output_type": "stream",
          "name": "stdout",
          "text": [
            "The most probable sequence of states is: (['Rainy', 'Rainy', 'Rainy'], 0.01344)\n"
          ]
        }
      ],
      "source": [
        "# Given parameters\n",
        "states = ['Rainy', 'Sunny']\n",
        "observations = ['Walk', 'Shop', 'Clean']\n",
        "start_prob = {'Rainy': 0.6, 'Sunny': 0.4}\n",
        "trans_prob = {\n",
        "    'Rainy': {'Rainy': 0.7, 'Sunny': 0.3},\n",
        "    'Sunny': {'Rainy': 0.4, 'Sunny': 0.6},\n",
        "}\n",
        "emit_prob = {\n",
        "    'Rainy': {'Walk': 0.1, 'Shop': 0.4, 'Clean': 0.5},\n",
        "    'Sunny': {'Walk': 0.6, 'Shop': 0.3, 'Clean': 0.1},\n",
        "}\n",
        "\n",
        "# Execute the function\n",
        "result = viterbi(observations, states, start_prob, trans_prob, emit_prob)\n",
        "print(\"The most probable sequence of states is:\", result)"
      ]
    }
  ]
}